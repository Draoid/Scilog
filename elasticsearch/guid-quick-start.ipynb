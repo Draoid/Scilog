{
 "cells": [
  {
   "cell_type": "markdown",
   "metadata": {},
   "source": [
    "Установка\n",
    "\n",
    "Чтобы установить клиент, выполните следующую команду:"
   ]
  },
  {
   "cell_type": "code",
   "execution_count": 1,
   "metadata": {},
   "outputs": [
    {
     "name": "stdout",
     "output_type": "stream",
     "text": [
      "Collecting elasticsearch\n",
      "  Using cached elasticsearch-8.16.0-py3-none-any.whl.metadata (8.8 kB)\n",
      "Collecting elastic-transport<9,>=8.15.1 (from elasticsearch)\n",
      "  Using cached elastic_transport-8.15.1-py3-none-any.whl.metadata (3.7 kB)\n",
      "Collecting urllib3<3,>=1.26.2 (from elastic-transport<9,>=8.15.1->elasticsearch)\n",
      "  Using cached urllib3-2.2.3-py3-none-any.whl.metadata (6.5 kB)\n",
      "Collecting certifi (from elastic-transport<9,>=8.15.1->elasticsearch)\n",
      "  Using cached certifi-2024.8.30-py3-none-any.whl.metadata (2.2 kB)\n",
      "Using cached elasticsearch-8.16.0-py3-none-any.whl (543 kB)\n",
      "Using cached elastic_transport-8.15.1-py3-none-any.whl (64 kB)\n",
      "Downloading urllib3-2.2.3-py3-none-any.whl (126 kB)\n",
      "Downloading certifi-2024.8.30-py3-none-any.whl (167 kB)\n",
      "Installing collected packages: urllib3, certifi, elastic-transport, elasticsearch\n",
      "Successfully installed certifi-2024.8.30 elastic-transport-8.15.1 elasticsearch-8.16.0 urllib3-2.2.3\n"
     ]
    }
   ],
   "source": [
    "! pip install elasticsearch"
   ]
  },
  {
   "cell_type": "markdown",
   "metadata": {},
   "source": [
    "Подключение\n",
    "\n",
    "Вы можете подключиться к Elastic Cloud, используя ключ API и идентификатор облака."
   ]
  },
  {
   "cell_type": "code",
   "execution_count": 9,
   "metadata": {},
   "outputs": [],
   "source": [
    "from elasticsearch import Elasticsearch\n",
    "\n",
    "client = Elasticsearch(cloud_id=\"Y2d57031911b34f7a91f6dc028d05c613:dXMtY2VudHJhbDEuZ2NwLmNsb3VkLmVzLmlvJGIxYjFlY2QyMWI3YjQ3ZDE5OWUxY2MyNjExMTc1YWNiJGMxZGRmMTI4NTAyMTRhZjFhZjU3NDQ5YTI0Y2FkMGEz\", api_key=\"MWFDa0s1TUJVR0xtdlVBdTNoZkY6WHlJaFdFZ1FROW1sc3NQN2tIcEgtUQ==\")"
   ]
  },
  {
   "cell_type": "markdown",
   "metadata": {},
   "source": [
    "Ваш идентификатор Cloud можно найти на странице «Моё развёртывание» в разделе «Идентификатор Cloud»."
   ]
  },
  {
   "cell_type": "code",
   "execution_count": 8,
   "metadata": {},
   "outputs": [
    {
     "name": "stdout",
     "output_type": "stream",
     "text": [
      "{'name': 'instance-0000000000', 'cluster_name': 'b1b1ecd21b7b47d199e1cc2611175acb', 'cluster_uuid': '1rMPpNkjTZK7FsCBiNJE4w', 'version': {'number': '8.16.0', 'build_flavor': 'default', 'build_type': 'docker', 'build_hash': '12ff76a92922609df4aba61a368e7adf65589749', 'build_date': '2024-11-08T10:05:56.292914697Z', 'build_snapshot': False, 'lucene_version': '9.12.0', 'minimum_wire_compatibility_version': '7.17.0', 'minimum_index_compatibility_version': '7.0.0'}, 'tagline': 'You Know, for Search'}\n"
     ]
    }
   ],
   "source": [
    "print(client.info())"
   ]
  },
  {
   "cell_type": "markdown",
   "metadata": {},
   "source": [
    "Использование клиента\n",
    "\n",
    "Пришло время использовать Elasticsearch! В этом разделе вы познакомитесь с наиболее важными функциями Elasticsearch. В следующих примерах предполагается, что клиент Python был создан, как описано выше.\n",
    "\n",
    "Создайте индекс с сопоставлениями\n",
    "\n",
    "Вот так вы создаёте индекс my_index. При желании вы можете сначала определить ожидаемые типы ваших функций с помощью пользовательского сопоставления."
   ]
  },
  {
   "cell_type": "code",
   "execution_count": 4,
   "metadata": {},
   "outputs": [
    {
     "data": {
      "text/plain": [
       "ObjectApiResponse({'acknowledged': True, 'shards_acknowledged': True, 'index': 'book_index'})"
      ]
     },
     "execution_count": 4,
     "metadata": {},
     "output_type": "execute_result"
    }
   ],
   "source": [
    "mappings = {\n",
    "    \"properties\": {\n",
    "        \"foo\": {\"type\": \"text\"},\n",
    "        \"bar\": {\n",
    "            \"type\": \"text\",\n",
    "            \"fields\": {\n",
    "                \"keyword\": {\n",
    "                    \"type\": \"keyword\",\n",
    "                    \"ignore_above\": 256,\n",
    "                }\n",
    "            },\n",
    "        },\n",
    "    }\n",
    "}\n",
    "\n",
    "client.indices.create(index=\"book_index\", mappings=mappings)"
   ]
  },
  {
   "cell_type": "markdown",
   "metadata": {},
   "source": [
    "Индексирование документов\n",
    "\n",
    "Это индексирует документ с помощью index API:"
   ]
  },
  {
   "cell_type": "code",
   "execution_count": 5,
   "metadata": {},
   "outputs": [
    {
     "data": {
      "text/plain": [
       "ObjectApiResponse({'_index': 'book_index', '_id': 'book_document_id', '_version': 1, 'result': 'created', '_shards': {'total': 2, 'successful': 2, 'failed': 0}, '_seq_no': 0, '_primary_term': 1})"
      ]
     },
     "execution_count": 5,
     "metadata": {},
     "output_type": "execute_result"
    }
   ],
   "source": [
    "client.index(\n",
    "    index=\"book_index\",\n",
    "    id=\"book_document_id\",\n",
    "    document={\n",
    "        \"foo\": \"foo\",\n",
    "        \"bar\": \"bar\",\n",
    "    },\n",
    ")"
   ]
  },
  {
   "cell_type": "markdown",
   "metadata": {},
   "source": [
    "Получение документов\n",
    "\n",
    "Вы можете получить документы, используя следующий код:"
   ]
  },
  {
   "cell_type": "code",
   "execution_count": 7,
   "metadata": {},
   "outputs": [
    {
     "data": {
      "text/plain": [
       "ObjectApiResponse({'took': 1, 'timed_out': False, '_shards': {'total': 1, 'successful': 1, 'skipped': 0, 'failed': 0}, 'hits': {'total': {'value': 1, 'relation': 'eq'}, 'max_score': 0.2876821, 'hits': [{'_index': 'book_index', '_id': 'book_document_id', '_score': 0.2876821, '_source': {'foo': 'foo', 'bar': 'bar'}}]}})"
      ]
     },
     "execution_count": 7,
     "metadata": {},
     "output_type": "execute_result"
    }
   ],
   "source": [
    "client.search(index=\"book_index\", query={\"match\": {\"foo\": {\"query\": \"foo\"}}})"
   ]
  },
  {
   "cell_type": "markdown",
   "metadata": {},
   "source": [
    "Обновление документов\n",
    "\n",
    "Вот как можно обновить документ, например, чтобы добавить новое поле:"
   ]
  },
  {
   "cell_type": "code",
   "execution_count": null,
   "metadata": {},
   "outputs": [],
   "source": [
    "client.update(\n",
    "    index=\"my_index\",\n",
    "    id=\"my_document_id\",\n",
    "    doc={\n",
    "        \"foo\": \"bar\",\n",
    "        \"new_field\": \"new value\",\n",
    "    },\n",
    ")"
   ]
  },
  {
   "cell_type": "markdown",
   "metadata": {},
   "source": [
    "Удаление документов"
   ]
  },
  {
   "cell_type": "code",
   "execution_count": null,
   "metadata": {},
   "outputs": [],
   "source": [
    "client.delete(index=\"book_index\", id=\"book_document_id\")"
   ]
  },
  {
   "cell_type": "markdown",
   "metadata": {},
   "source": [
    "Удаление индекса"
   ]
  },
  {
   "cell_type": "code",
   "execution_count": null,
   "metadata": {},
   "outputs": [],
   "source": [
    "client.indices.delete(index=\"book_index\")"
   ]
  }
 ],
 "metadata": {
  "kernelspec": {
   "display_name": "Python 3",
   "language": "python",
   "name": "python3"
  },
  "language_info": {
   "codemirror_mode": {
    "name": "ipython",
    "version": 3
   },
   "file_extension": ".py",
   "mimetype": "text/x-python",
   "name": "python",
   "nbconvert_exporter": "python",
   "pygments_lexer": "ipython3",
   "version": "3.11.2"
  }
 },
 "nbformat": 4,
 "nbformat_minor": 2
}
