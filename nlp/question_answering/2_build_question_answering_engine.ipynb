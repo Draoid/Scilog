{
 "cells": [
  {
   "cell_type": "markdown",
   "id": "e410b6c4",
   "metadata": {},
   "source": [
    "# Build a Qusetion Answering Engine in Minutes"
   ]
  },
  {
   "cell_type": "markdown",
   "id": "9bed6f24",
   "metadata": {},
   "source": [
    "This notebook illustrates how to build a question answering engine from scratch using [Milvus](https://milvus.io/) and [Towhee](https://towhee.io/). Milvus is the most advanced open-source vector database built for AI applications and supports nearest neighbor embedding search across tens of millions of entries, and Towhee is a framework that provides ETL for unstructured data using SoTA machine learning models.\n",
    "\n",
    "We will go through question answering procedures and evaluate performance. Moreover, we managed to make the core functionality as simple as almost 10 lines of code with Towhee, so that you can start hacking your own question answering engine."
   ]
  },
  {
   "cell_type": "markdown",
   "id": "4883e577",
   "metadata": {},
   "source": [
    "## Preparations"
   ]
  },
  {
   "cell_type": "markdown",
   "id": "49110b91",
   "metadata": {},
   "source": [
    "### Install Dependencies"
   ]
  },
  {
   "cell_type": "markdown",
   "id": "0117995a",
   "metadata": {},
   "source": [
    "First we need to install dependencies such as towhee, towhee.models and gradio."
   ]
  },
  {
   "cell_type": "code",
   "execution_count": 1,
   "id": "c9ba3850",
   "metadata": {},
   "outputs": [
    {
     "name": "stdout",
     "output_type": "stream",
     "text": [
      "\u001b[33mWARNING: typer 0.12.0 does not provide the extra 'all'\u001b[0m\u001b[33m\n",
      "\u001b[0m"
     ]
    }
   ],
   "source": [
    "! python -m pip install -q towhee towhee.models gradio"
   ]
  },
  {
   "cell_type": "markdown",
   "id": "a90db0c5",
   "metadata": {},
   "source": [
    "### Prepare the Data"
   ]
  },
  {
   "cell_type": "markdown",
   "id": "d1eceb58",
   "metadata": {},
   "source": [
    "There is a subset of the  [InsuranceQA Corpus](https://github.com/shuzi/insuranceQA)  (1000 pairs of questions and answers) used in this demo, everyone can download on [Github](https://github.com/towhee-io/examples/releases/download/data/question_answer.csv)."
   ]
  },
  {
   "cell_type": "code",
   "execution_count": 2,
   "id": "d1436a9c",
   "metadata": {},
   "outputs": [
    {
     "name": "stdout",
     "output_type": "stream",
     "text": [
      "  % Total    % Received % Xferd  Average Speed   Time    Time     Time  Current\n",
      "                                 Dload  Upload   Total   Spent    Left  Speed\n",
      "  0     0    0     0    0     0      0   "
     ]
    },
    {
     "name": "stdout",
     "output_type": "stream",
     "text": [
      "  0     0    0     0    0     0      0      0 --:--:-- --:--:-- --:--:--     0\n",
      "100  595k  100  595k    0     0   547k      0  0:00:01  0:00:01 --:--:--  834k\n"
     ]
    }
   ],
   "source": [
    "! curl -L https://github.com/towhee-io/examples/releases/download/data/question_answer.csv -O"
   ]
  },
  {
   "cell_type": "markdown",
   "id": "c4abdc0a",
   "metadata": {},
   "source": [
    "**question_answer.csv**: a file containing question and the answer.\n",
    "\n",
    "Let's take a quick look:"
   ]
  },
  {
   "cell_type": "code",
   "execution_count": 3,
   "id": "d652efea",
   "metadata": {},
   "outputs": [
    {
     "data": {
      "text/html": [
       "<div>\n",
       "<style scoped>\n",
       "    .dataframe tbody tr th:only-of-type {\n",
       "        vertical-align: middle;\n",
       "    }\n",
       "\n",
       "    .dataframe tbody tr th {\n",
       "        vertical-align: top;\n",
       "    }\n",
       "\n",
       "    .dataframe thead th {\n",
       "        text-align: right;\n",
       "    }\n",
       "</style>\n",
       "<table border=\"1\" class=\"dataframe\">\n",
       "  <thead>\n",
       "    <tr style=\"text-align: right;\">\n",
       "      <th></th>\n",
       "      <th>id</th>\n",
       "      <th>question</th>\n",
       "      <th>answer</th>\n",
       "    </tr>\n",
       "  </thead>\n",
       "  <tbody>\n",
       "    <tr>\n",
       "      <th>0</th>\n",
       "      <td>0</td>\n",
       "      <td>Is  Disability  Insurance  Required  By  Law?</td>\n",
       "      <td>Not generally. There are five states that requ...</td>\n",
       "    </tr>\n",
       "    <tr>\n",
       "      <th>1</th>\n",
       "      <td>1</td>\n",
       "      <td>Can  Creditors  Take  Life  Insurance  After  ...</td>\n",
       "      <td>If the person who passed away was the one with...</td>\n",
       "    </tr>\n",
       "    <tr>\n",
       "      <th>2</th>\n",
       "      <td>2</td>\n",
       "      <td>Does  Travelers  Insurance  Have  Renters  Ins...</td>\n",
       "      <td>One of the insurance carriers I represent is T...</td>\n",
       "    </tr>\n",
       "    <tr>\n",
       "      <th>3</th>\n",
       "      <td>3</td>\n",
       "      <td>Can  I  Drive  A  New  Car  Home  Without  Ins...</td>\n",
       "      <td>Most auto dealers will not let you drive the c...</td>\n",
       "    </tr>\n",
       "    <tr>\n",
       "      <th>4</th>\n",
       "      <td>4</td>\n",
       "      <td>Is  The  Cash  Surrender  Value  Of  Life  Ins...</td>\n",
       "      <td>Cash surrender value comes only with Whole Lif...</td>\n",
       "    </tr>\n",
       "  </tbody>\n",
       "</table>\n",
       "</div>"
      ],
      "text/plain": [
       "   id                                           question  \\\n",
       "0   0      Is  Disability  Insurance  Required  By  Law?   \n",
       "1   1  Can  Creditors  Take  Life  Insurance  After  ...   \n",
       "2   2  Does  Travelers  Insurance  Have  Renters  Ins...   \n",
       "3   3  Can  I  Drive  A  New  Car  Home  Without  Ins...   \n",
       "4   4  Is  The  Cash  Surrender  Value  Of  Life  Ins...   \n",
       "\n",
       "                                              answer  \n",
       "0  Not generally. There are five states that requ...  \n",
       "1  If the person who passed away was the one with...  \n",
       "2  One of the insurance carriers I represent is T...  \n",
       "3  Most auto dealers will not let you drive the c...  \n",
       "4  Cash surrender value comes only with Whole Lif...  "
      ]
     },
     "execution_count": 3,
     "metadata": {},
     "output_type": "execute_result"
    }
   ],
   "source": [
    "import pandas as pd\n",
    "\n",
    "df = pd.read_csv('question_answer.csv')\n",
    "df.head()"
   ]
  },
  {
   "cell_type": "markdown",
   "id": "309bfb43",
   "metadata": {},
   "source": [
    "To use the dataset to get answers, let's first define the dictionary:\n",
    "\n",
    "- `id_answer`: a dictionary of id and corresponding answer"
   ]
  },
  {
   "cell_type": "code",
   "execution_count": 4,
   "id": "4d98b309",
   "metadata": {},
   "outputs": [],
   "source": [
    "id_answer = df.set_index('id')['answer'].to_dict()"
   ]
  },
  {
   "cell_type": "markdown",
   "id": "1c5a0858",
   "metadata": {},
   "source": [
    "### Create Milvus Collection"
   ]
  },
  {
   "cell_type": "markdown",
   "id": "efb06a01",
   "metadata": {},
   "source": [
    "Before getting started, please make sure that you have started a [Milvus service](https://milvus.io/docs/install_standalone-docker.md). This notebook uses [milvus 2.2.10](https://milvus.io/docs/v2.2.x/install_standalone-docker.md) and [pymilvus 2.2.11](https://milvus.io/docs/release_notes.md#2210)."
   ]
  },
  {
   "cell_type": "code",
   "execution_count": 5,
   "id": "8048bf6c",
   "metadata": {},
   "outputs": [],
   "source": [
    "! python -m pip install -q pymilvus==2.2.11"
   ]
  },
  {
   "cell_type": "markdown",
   "id": "87ba2b23",
   "metadata": {},
   "source": [
    "Next to define the function `create_milvus_collection` to create collection in Milvus that uses the [L2 distance metric](https://milvus.io/docs/metric.md#Euclidean-distance-L2) and an [IVF_FLAT index](https://milvus.io/docs/index.md#IVF_FLAT)."
   ]
  },
  {
   "cell_type": "code",
   "execution_count": 3,
   "id": "22c19982",
   "metadata": {},
   "outputs": [
    {
     "name": "stdout",
     "output_type": "stream",
     "text": [
      "<class 'str'> 77e44c13012a64a48c21312903bf753be640225497971e1d1d1c13fe4fcec0cc0b4fa70b30aa2caba9e2fec9d38379eb853b9dc9\n"
     ]
    }
   ],
   "source": [
    "from pymilvus import connections, FieldSchema, CollectionSchema, DataType, Collection, utility, MilvusClient\n",
    "import configparser\n",
    "\"\"\"\n",
    "client = MilvusClient(\n",
    "\n",
    "uri= 'https://in03-244ceba7647c848.api.gcp-us-west1.zillizcloud.com',\n",
    "\n",
    "token= '77e44c13012a64a48c21312903bf753be640225497971e1d1d1c13fe4fcec0cc0b4fa70b30aa2caba9e2fec9d38379eb853b9dc9'\n",
    "\n",
    ")\"\"\"\n",
    "\n",
    "cfp = configparser.RawConfigParser()\n",
    "cfp.read('settings.ini')\n",
    "print(type(cfp.get(\"settings\",\"uri\")), cfp.get(\"settings\",\"token\"))\n",
    "connections.connect(\n",
    "    uri= cfp.get(\"settings\",\"uri\"),\n",
    "    token= cfp.get(\"settings\",\"token\")\n",
    ")\n"
   ]
  },
  {
   "cell_type": "code",
   "execution_count": 4,
   "id": "4a44683a",
   "metadata": {},
   "outputs": [],
   "source": [
    "from pymilvus import connections, FieldSchema, CollectionSchema, DataType, Collection, utility, MilvusClient\n",
    "import configparser\n",
    "\"\"\" # Create a collection\n",
    "client.create_collection(\n",
    "    collection_name='testuser2',\n",
    "    dimension=768\n",
    ")\n",
    " \"\"\"\n",
    "def create_milvus_collection(collection_name, dim):\n",
    "    if utility.has_collection(collection_name):\n",
    "        utility.drop_collection(collection_name)\n",
    "    \n",
    "    fields = [\n",
    "    FieldSchema(name='id', dtype=DataType.VARCHAR, descrition='ids', max_length=500, is_primary=True, auto_id=False),\n",
    "    FieldSchema(name='embedding', dtype=DataType.FLOAT_VECTOR, descrition='embedding vectors', dim=dim)\n",
    "    ]\n",
    "    schema = CollectionSchema(fields=fields, description='reverse image search')\n",
    "    collection = Collection(name=collection_name, schema=schema)\n",
    "\n",
    "    # create IVF_FLAT index for collection.\n",
    "    index_params = {\n",
    "        'metric_type':'L2',\n",
    "        'index_type':\"IVF_FLAT\",\n",
    "        'params':{\"nlist\":2048}\n",
    "    }\n",
    "    collection.create_index(field_name=\"embedding\", index_params=index_params)\n",
    "    return collection\n",
    "\n",
    "collection = create_milvus_collection('testuser2', 768)"
   ]
  },
  {
   "cell_type": "markdown",
   "id": "9724ba28",
   "metadata": {},
   "source": [
    "## Question Answering Engine"
   ]
  },
  {
   "cell_type": "markdown",
   "id": "01e1ac7e",
   "metadata": {},
   "source": [
    "In this section, we will show how to build our question answering engine using Milvus and Towhee. The basic idea behind question answering is to use Towhee to generate embedding from the question dataset and compare the input question with the embedding stored in Milvus.\n",
    "\n",
    "[Towhee](https://towhee.io/) is a machine learning framework that allows the creation of data processing pipelines, and it also provides predefined operators for implementing insert and query operations in Milvus.\n",
    "\n",
    "<img src=\"./workflow.png\" width = \"60%\" height = \"60%\" align=center />"
   ]
  },
  {
   "cell_type": "markdown",
   "id": "4c0188bf",
   "metadata": {},
   "source": [
    "### Load question embedding into Milvus"
   ]
  },
  {
   "cell_type": "markdown",
   "id": "0a654fdc",
   "metadata": {},
   "source": [
    "We first generate embedding from question text with [dpr](https://towhee.io/text-embedding/dpr) operator and insert the embedding into Milvus. Towhee provides a [method-chaining style API](https://towhee.readthedocs.io/en/main/index.html) so that users can assemble a data processing pipeline with operators."
   ]
  },
  {
   "cell_type": "code",
   "execution_count": 5,
   "id": "13b7beea",
   "metadata": {},
   "outputs": [
    {
     "name": "stderr",
     "output_type": "stream",
     "text": [
      "/home/student/PycharmProjects/MagProject/project3/ProjectOnTeam/.venv/lib/python3.11/site-packages/pydantic/_internal/_fields.py:151: UserWarning: Field \"model_name\" has conflict with protected namespace \"model_\".\n",
      "\n",
      "You may be able to resolve this warning by setting `model_config['protected_namespaces'] = ()`.\n",
      "  warnings.warn(\n",
      "2024-04-01 19:59:10,197 - 140256178044992 - connectionpool.py-connectionpool:1055 - DEBUG: Starting new HTTPS connection (1): towhee.io:443\n",
      "2024-04-01 19:59:11,104 - 140256178044992 - connectionpool.py-connectionpool:549 - DEBUG: https://towhee.io:443 \"GET /towhee-api/v1/repos/text-embedding/dpr/tree?recursive=true&ref=main HTTP/1.1\" 200 1199\n",
      "2024-04-01 19:59:11,131 - 140255126591168 - connectionpool.py-connectionpool:1055 - DEBUG: Starting new HTTPS connection (1): towhee.io:443\n",
      "2024-04-01 19:59:11,140 - 140254558287552 - connectionpool.py-connectionpool:1055 - DEBUG: Starting new HTTPS connection (1): towhee.io:443\n",
      "2024-04-01 19:59:11,168 - 140254549894848 - connectionpool.py-connectionpool:1055 - DEBUG: Starting new HTTPS connection (1): towhee.io:443\n",
      "2024-04-01 19:59:11,200 - 140254533109440 - connectionpool.py-connectionpool:1055 - DEBUG: Starting new HTTPS connection (1): towhee.io:443\n",
      "2024-04-01 19:59:11,207 - 140254541502144 - connectionpool.py-connectionpool:1055 - DEBUG: Starting new HTTPS connection (1): towhee.io:443\n",
      "2024-04-01 19:59:12,016 - 140255126591168 - connectionpool.py-connectionpool:549 - DEBUG: https://towhee.io:443 \"GET /text-embedding/dpr/resolve/branch/main/.gitattributes HTTP/1.1\" 200 1176\n",
      "2024-04-01 19:59:12,029 - 140254558287552 - connectionpool.py-connectionpool:549 - DEBUG: https://towhee.io:443 \"GET /text-embedding/dpr/resolve/branch/main/README.md HTTP/1.1\" 200 2090\n",
      "2024-04-01 19:59:12,037 - 140254549894848 - connectionpool.py-connectionpool:549 - DEBUG: https://towhee.io:443 \"GET /text-embedding/dpr/resolve/branch/main/__init__.py HTTP/1.1\" 200 660\n",
      "2024-04-01 19:59:12,041 - 140254541502144 - connectionpool.py-connectionpool:549 - DEBUG: https://towhee.io:443 \"GET /text-embedding/dpr/resolve/branch/main/dpr.py HTTP/1.1\" 200 2205\n",
      "2024-04-01 19:59:12,042 - 140254533109440 - connectionpool.py-connectionpool:549 - DEBUG: https://towhee.io:443 \"GET /text-embedding/dpr/resolve/branch/main/requirements.txt HTTP/1.1\" 200 55\n",
      "Downloading https://towhee.io/text-embedding/dpr/resolve/branch/main/README.md to /home/student/.towhee/operators/text-embedding/dpr/files:   0%|          | 0.00/2.09k [00:00<?, ?B/s]\n",
      "\u001b[A\n",
      "\n",
      "Downloading https://towhee.io/text-embedding/dpr/resolve/branch/main/dpr.py to /home/student/.towhee/operators/text-embedding/dpr/files: 100%|██████████| 2.21k/2.21k [00:00<00:00, 3.97MB/s]\n",
      "\n",
      "Downloading https://towhee.io/text-embedding/dpr/resolve/branch/main/__init__.py to /home/student/.towhee/operators/text-embedding/dpr/files: 100%|██████████| 660/660 [00:00<00:00, 23.7kB/s]\n",
      "\n",
      "\n",
      "\n",
      "Downloading https://towhee.io/text-embedding/dpr/resolve/branch/main/requirements.txt to /home/student/.towhee/operators/text-embedding/dpr/files: 100%|██████████| 55.0/55.0 [00:00<00:00, 162kB/s]\n",
      "Downloading https://towhee.io/text-embedding/dpr/resolve/branch/main/.gitattributes to /home/student/.towhee/operators/text-embedding/dpr/files: 100%|██████████| 1.18k/1.18k [00:00<00:00, 62.6kB/s]\n",
      "Downloading https://towhee.io/text-embedding/dpr/resolve/branch/main/README.md to /home/student/.towhee/operators/text-embedding/dpr/files: 100%|██████████| 2.09k/2.09k [00:00<00:00, 39.5kB/s]\n",
      "2024-04-01 19:59:12,868 - 140254541502144 - connectionpool.py-connectionpool:549 - DEBUG: https://towhee.io:443 \"GET /text-embedding/dpr/resolve/branch/main/result.png HTTP/1.1\" 200 5740\n",
      "Downloading https://towhee.io/text-embedding/dpr/resolve/branch/main/result.png to /home/student/.towhee/operators/text-embedding/dpr/files: 100%|██████████| 5.74k/5.74k [00:00<00:00, 5.29MB/s]\n"
     ]
    },
    {
     "name": "stdout",
     "output_type": "stream",
     "text": [
      "Requirement already satisfied: numpy in /home/student/PycharmProjects/MagProject/project3/ProjectOnTeam/.venv/lib/python3.11/site-packages (from -r /home/student/.towhee/operators/text-embedding/dpr/versions/main/requirements.txt (line 1)) (1.26.4)\n",
      "Collecting transformers (from -r /home/student/.towhee/operators/text-embedding/dpr/versions/main/requirements.txt (line 2))\n",
      "  Downloading transformers-4.39.2-py3-none-any.whl.metadata (134 kB)\n",
      "\u001b[2K     \u001b[90m━━━━━━━━━━━━━━━━━━━━━━━━━━━━━━━━━━━━━━━\u001b[0m \u001b[32m134.8/134.8 kB\u001b[0m \u001b[31m1.1 MB/s\u001b[0m eta \u001b[36m0:00:00\u001b[0ma \u001b[36m0:00:01\u001b[0m\n",
      "\u001b[?25hCollecting sentencepiece (from -r /home/student/.towhee/operators/text-embedding/dpr/versions/main/requirements.txt (line 3))\n",
      "  Downloading sentencepiece-0.2.0-cp311-cp311-manylinux_2_17_x86_64.manylinux2014_x86_64.whl.metadata (7.7 kB)\n",
      "Requirement already satisfied: protobuf in /home/student/PycharmProjects/MagProject/project3/ProjectOnTeam/.venv/lib/python3.11/site-packages (from -r /home/student/.towhee/operators/text-embedding/dpr/versions/main/requirements.txt (line 4)) (5.26.1)\n",
      "Requirement already satisfied: towhee in /home/student/PycharmProjects/MagProject/project3/ProjectOnTeam/.venv/lib/python3.11/site-packages (from -r /home/student/.towhee/operators/text-embedding/dpr/versions/main/requirements.txt (line 5)) (1.1.3)\n",
      "Collecting torch (from -r /home/student/.towhee/operators/text-embedding/dpr/versions/main/requirements.txt (line 6))\n",
      "  Downloading torch-2.2.2-cp311-cp311-manylinux1_x86_64.whl.metadata (25 kB)\n",
      "Requirement already satisfied: filelock in /home/student/PycharmProjects/MagProject/project3/ProjectOnTeam/.venv/lib/python3.11/site-packages (from transformers->-r /home/student/.towhee/operators/text-embedding/dpr/versions/main/requirements.txt (line 2)) (3.13.3)\n",
      "Requirement already satisfied: huggingface-hub<1.0,>=0.19.3 in /home/student/PycharmProjects/MagProject/project3/ProjectOnTeam/.venv/lib/python3.11/site-packages (from transformers->-r /home/student/.towhee/operators/text-embedding/dpr/versions/main/requirements.txt (line 2)) (0.22.2)\n",
      "Requirement already satisfied: packaging>=20.0 in /home/student/PycharmProjects/MagProject/project3/ProjectOnTeam/.venv/lib/python3.11/site-packages (from transformers->-r /home/student/.towhee/operators/text-embedding/dpr/versions/main/requirements.txt (line 2)) (24.0)\n",
      "Requirement already satisfied: pyyaml>=5.1 in /home/student/PycharmProjects/MagProject/project3/ProjectOnTeam/.venv/lib/python3.11/site-packages (from transformers->-r /home/student/.towhee/operators/text-embedding/dpr/versions/main/requirements.txt (line 2)) (6.0.1)\n",
      "Collecting regex!=2019.12.17 (from transformers->-r /home/student/.towhee/operators/text-embedding/dpr/versions/main/requirements.txt (line 2))\n",
      "  Using cached regex-2023.12.25-cp311-cp311-manylinux_2_17_x86_64.manylinux2014_x86_64.whl.metadata (40 kB)\n",
      "Requirement already satisfied: requests in /home/student/PycharmProjects/MagProject/project3/ProjectOnTeam/.venv/lib/python3.11/site-packages (from transformers->-r /home/student/.towhee/operators/text-embedding/dpr/versions/main/requirements.txt (line 2)) (2.31.0)\n",
      "Collecting tokenizers<0.19,>=0.14 (from transformers->-r /home/student/.towhee/operators/text-embedding/dpr/versions/main/requirements.txt (line 2))\n",
      "  Downloading tokenizers-0.15.2-cp311-cp311-manylinux_2_17_x86_64.manylinux2014_x86_64.whl.metadata (6.7 kB)\n",
      "Collecting safetensors>=0.4.1 (from transformers->-r /home/student/.towhee/operators/text-embedding/dpr/versions/main/requirements.txt (line 2))\n",
      "  Downloading safetensors-0.4.2-cp311-cp311-manylinux_2_17_x86_64.manylinux2014_x86_64.whl.metadata (3.8 kB)\n",
      "Requirement already satisfied: tqdm>=4.27 in /home/student/PycharmProjects/MagProject/project3/ProjectOnTeam/.venv/lib/python3.11/site-packages (from transformers->-r /home/student/.towhee/operators/text-embedding/dpr/versions/main/requirements.txt (line 2)) (4.66.2)\n",
      "Requirement already satisfied: tabulate in /home/student/PycharmProjects/MagProject/project3/ProjectOnTeam/.venv/lib/python3.11/site-packages (from towhee->-r /home/student/.towhee/operators/text-embedding/dpr/versions/main/requirements.txt (line 5)) (0.9.0)\n",
      "Requirement already satisfied: twine in /home/student/PycharmProjects/MagProject/project3/ProjectOnTeam/.venv/lib/python3.11/site-packages (from towhee->-r /home/student/.towhee/operators/text-embedding/dpr/versions/main/requirements.txt (line 5)) (5.0.0)\n",
      "Requirement already satisfied: tenacity in /home/student/PycharmProjects/MagProject/project3/ProjectOnTeam/.venv/lib/python3.11/site-packages (from towhee->-r /home/student/.towhee/operators/text-embedding/dpr/versions/main/requirements.txt (line 5)) (8.2.3)\n",
      "Requirement already satisfied: pydantic in /home/student/PycharmProjects/MagProject/project3/ProjectOnTeam/.venv/lib/python3.11/site-packages (from towhee->-r /home/student/.towhee/operators/text-embedding/dpr/versions/main/requirements.txt (line 5)) (2.6.4)\n",
      "Requirement already satisfied: typing-extensions>=4.8.0 in /home/student/PycharmProjects/MagProject/project3/ProjectOnTeam/.venv/lib/python3.11/site-packages (from torch->-r /home/student/.towhee/operators/text-embedding/dpr/versions/main/requirements.txt (line 6)) (4.10.0)\n",
      "Collecting sympy (from torch->-r /home/student/.towhee/operators/text-embedding/dpr/versions/main/requirements.txt (line 6))\n",
      "  Using cached sympy-1.12-py3-none-any.whl.metadata (12 kB)\n",
      "Collecting networkx (from torch->-r /home/student/.towhee/operators/text-embedding/dpr/versions/main/requirements.txt (line 6))\n",
      "  Using cached networkx-3.2.1-py3-none-any.whl.metadata (5.2 kB)\n",
      "Requirement already satisfied: jinja2 in /home/student/PycharmProjects/MagProject/project3/ProjectOnTeam/.venv/lib/python3.11/site-packages (from torch->-r /home/student/.towhee/operators/text-embedding/dpr/versions/main/requirements.txt (line 6)) (3.1.3)\n",
      "Requirement already satisfied: fsspec in /home/student/PycharmProjects/MagProject/project3/ProjectOnTeam/.venv/lib/python3.11/site-packages (from torch->-r /home/student/.towhee/operators/text-embedding/dpr/versions/main/requirements.txt (line 6)) (2024.3.1)\n",
      "Collecting nvidia-cuda-nvrtc-cu12==12.1.105 (from torch->-r /home/student/.towhee/operators/text-embedding/dpr/versions/main/requirements.txt (line 6))\n",
      "  Using cached nvidia_cuda_nvrtc_cu12-12.1.105-py3-none-manylinux1_x86_64.whl.metadata (1.5 kB)\n",
      "Collecting nvidia-cuda-runtime-cu12==12.1.105 (from torch->-r /home/student/.towhee/operators/text-embedding/dpr/versions/main/requirements.txt (line 6))\n",
      "  Using cached nvidia_cuda_runtime_cu12-12.1.105-py3-none-manylinux1_x86_64.whl.metadata (1.5 kB)\n",
      "Collecting nvidia-cuda-cupti-cu12==12.1.105 (from torch->-r /home/student/.towhee/operators/text-embedding/dpr/versions/main/requirements.txt (line 6))\n",
      "  Using cached nvidia_cuda_cupti_cu12-12.1.105-py3-none-manylinux1_x86_64.whl.metadata (1.6 kB)\n",
      "Collecting nvidia-cudnn-cu12==8.9.2.26 (from torch->-r /home/student/.towhee/operators/text-embedding/dpr/versions/main/requirements.txt (line 6))\n",
      "  Using cached nvidia_cudnn_cu12-8.9.2.26-py3-none-manylinux1_x86_64.whl.metadata (1.6 kB)\n",
      "Collecting nvidia-cublas-cu12==12.1.3.1 (from torch->-r /home/student/.towhee/operators/text-embedding/dpr/versions/main/requirements.txt (line 6))\n",
      "  Using cached nvidia_cublas_cu12-12.1.3.1-py3-none-manylinux1_x86_64.whl.metadata (1.5 kB)\n",
      "Collecting nvidia-cufft-cu12==11.0.2.54 (from torch->-r /home/student/.towhee/operators/text-embedding/dpr/versions/main/requirements.txt (line 6))\n",
      "  Using cached nvidia_cufft_cu12-11.0.2.54-py3-none-manylinux1_x86_64.whl.metadata (1.5 kB)\n",
      "Collecting nvidia-curand-cu12==10.3.2.106 (from torch->-r /home/student/.towhee/operators/text-embedding/dpr/versions/main/requirements.txt (line 6))\n",
      "  Using cached nvidia_curand_cu12-10.3.2.106-py3-none-manylinux1_x86_64.whl.metadata (1.5 kB)\n",
      "Collecting nvidia-cusolver-cu12==11.4.5.107 (from torch->-r /home/student/.towhee/operators/text-embedding/dpr/versions/main/requirements.txt (line 6))\n",
      "  Using cached nvidia_cusolver_cu12-11.4.5.107-py3-none-manylinux1_x86_64.whl.metadata (1.6 kB)\n",
      "Collecting nvidia-cusparse-cu12==12.1.0.106 (from torch->-r /home/student/.towhee/operators/text-embedding/dpr/versions/main/requirements.txt (line 6))\n",
      "  Using cached nvidia_cusparse_cu12-12.1.0.106-py3-none-manylinux1_x86_64.whl.metadata (1.6 kB)\n",
      "Collecting nvidia-nccl-cu12==2.19.3 (from torch->-r /home/student/.towhee/operators/text-embedding/dpr/versions/main/requirements.txt (line 6))\n",
      "  Using cached nvidia_nccl_cu12-2.19.3-py3-none-manylinux1_x86_64.whl.metadata (1.8 kB)\n",
      "Collecting nvidia-nvtx-cu12==12.1.105 (from torch->-r /home/student/.towhee/operators/text-embedding/dpr/versions/main/requirements.txt (line 6))\n",
      "  Using cached nvidia_nvtx_cu12-12.1.105-py3-none-manylinux1_x86_64.whl.metadata (1.7 kB)\n",
      "Collecting triton==2.2.0 (from torch->-r /home/student/.towhee/operators/text-embedding/dpr/versions/main/requirements.txt (line 6))\n",
      "  Using cached triton-2.2.0-cp311-cp311-manylinux_2_17_x86_64.manylinux2014_x86_64.whl.metadata (1.4 kB)\n",
      "Collecting nvidia-nvjitlink-cu12 (from nvidia-cusolver-cu12==11.4.5.107->torch->-r /home/student/.towhee/operators/text-embedding/dpr/versions/main/requirements.txt (line 6))\n",
      "  Using cached nvidia_nvjitlink_cu12-12.4.99-py3-none-manylinux2014_x86_64.whl.metadata (1.5 kB)\n",
      "Requirement already satisfied: charset-normalizer<4,>=2 in /home/student/PycharmProjects/MagProject/project3/ProjectOnTeam/.venv/lib/python3.11/site-packages (from requests->transformers->-r /home/student/.towhee/operators/text-embedding/dpr/versions/main/requirements.txt (line 2)) (3.3.2)\n",
      "Requirement already satisfied: idna<4,>=2.5 in /home/student/PycharmProjects/MagProject/project3/ProjectOnTeam/.venv/lib/python3.11/site-packages (from requests->transformers->-r /home/student/.towhee/operators/text-embedding/dpr/versions/main/requirements.txt (line 2)) (3.6)\n",
      "Requirement already satisfied: urllib3<3,>=1.21.1 in /home/student/PycharmProjects/MagProject/project3/ProjectOnTeam/.venv/lib/python3.11/site-packages (from requests->transformers->-r /home/student/.towhee/operators/text-embedding/dpr/versions/main/requirements.txt (line 2)) (2.2.1)\n",
      "Requirement already satisfied: certifi>=2017.4.17 in /home/student/PycharmProjects/MagProject/project3/ProjectOnTeam/.venv/lib/python3.11/site-packages (from requests->transformers->-r /home/student/.towhee/operators/text-embedding/dpr/versions/main/requirements.txt (line 2)) (2024.2.2)\n",
      "Requirement already satisfied: MarkupSafe>=2.0 in /home/student/PycharmProjects/MagProject/project3/ProjectOnTeam/.venv/lib/python3.11/site-packages (from jinja2->torch->-r /home/student/.towhee/operators/text-embedding/dpr/versions/main/requirements.txt (line 6)) (2.1.5)\n",
      "Requirement already satisfied: annotated-types>=0.4.0 in /home/student/PycharmProjects/MagProject/project3/ProjectOnTeam/.venv/lib/python3.11/site-packages (from pydantic->towhee->-r /home/student/.towhee/operators/text-embedding/dpr/versions/main/requirements.txt (line 5)) (0.6.0)\n",
      "Requirement already satisfied: pydantic-core==2.16.3 in /home/student/PycharmProjects/MagProject/project3/ProjectOnTeam/.venv/lib/python3.11/site-packages (from pydantic->towhee->-r /home/student/.towhee/operators/text-embedding/dpr/versions/main/requirements.txt (line 5)) (2.16.3)\n",
      "Collecting mpmath>=0.19 (from sympy->torch->-r /home/student/.towhee/operators/text-embedding/dpr/versions/main/requirements.txt (line 6))\n",
      "  Using cached mpmath-1.3.0-py3-none-any.whl.metadata (8.6 kB)\n",
      "Requirement already satisfied: pkginfo>=1.8.1 in /home/student/PycharmProjects/MagProject/project3/ProjectOnTeam/.venv/lib/python3.11/site-packages (from twine->towhee->-r /home/student/.towhee/operators/text-embedding/dpr/versions/main/requirements.txt (line 5)) (1.10.0)\n",
      "Requirement already satisfied: readme-renderer>=35.0 in /home/student/PycharmProjects/MagProject/project3/ProjectOnTeam/.venv/lib/python3.11/site-packages (from twine->towhee->-r /home/student/.towhee/operators/text-embedding/dpr/versions/main/requirements.txt (line 5)) (43.0)\n",
      "Requirement already satisfied: requests-toolbelt!=0.9.0,>=0.8.0 in /home/student/PycharmProjects/MagProject/project3/ProjectOnTeam/.venv/lib/python3.11/site-packages (from twine->towhee->-r /home/student/.towhee/operators/text-embedding/dpr/versions/main/requirements.txt (line 5)) (1.0.0)\n",
      "Requirement already satisfied: importlib-metadata>=3.6 in /home/student/PycharmProjects/MagProject/project3/ProjectOnTeam/.venv/lib/python3.11/site-packages (from twine->towhee->-r /home/student/.towhee/operators/text-embedding/dpr/versions/main/requirements.txt (line 5)) (7.1.0)\n",
      "Requirement already satisfied: keyring>=15.1 in /home/student/PycharmProjects/MagProject/project3/ProjectOnTeam/.venv/lib/python3.11/site-packages (from twine->towhee->-r /home/student/.towhee/operators/text-embedding/dpr/versions/main/requirements.txt (line 5)) (25.0.0)\n",
      "Requirement already satisfied: rfc3986>=1.4.0 in /home/student/PycharmProjects/MagProject/project3/ProjectOnTeam/.venv/lib/python3.11/site-packages (from twine->towhee->-r /home/student/.towhee/operators/text-embedding/dpr/versions/main/requirements.txt (line 5)) (2.0.0)\n",
      "Requirement already satisfied: rich>=12.0.0 in /home/student/PycharmProjects/MagProject/project3/ProjectOnTeam/.venv/lib/python3.11/site-packages (from twine->towhee->-r /home/student/.towhee/operators/text-embedding/dpr/versions/main/requirements.txt (line 5)) (13.7.1)\n",
      "Requirement already satisfied: zipp>=0.5 in /home/student/PycharmProjects/MagProject/project3/ProjectOnTeam/.venv/lib/python3.11/site-packages (from importlib-metadata>=3.6->twine->towhee->-r /home/student/.towhee/operators/text-embedding/dpr/versions/main/requirements.txt (line 5)) (3.18.1)\n",
      "Requirement already satisfied: jaraco.classes in /home/student/PycharmProjects/MagProject/project3/ProjectOnTeam/.venv/lib/python3.11/site-packages (from keyring>=15.1->twine->towhee->-r /home/student/.towhee/operators/text-embedding/dpr/versions/main/requirements.txt (line 5)) (3.4.0)\n",
      "Requirement already satisfied: jaraco.functools in /home/student/PycharmProjects/MagProject/project3/ProjectOnTeam/.venv/lib/python3.11/site-packages (from keyring>=15.1->twine->towhee->-r /home/student/.towhee/operators/text-embedding/dpr/versions/main/requirements.txt (line 5)) (4.0.0)\n",
      "Requirement already satisfied: jaraco.context in /home/student/PycharmProjects/MagProject/project3/ProjectOnTeam/.venv/lib/python3.11/site-packages (from keyring>=15.1->twine->towhee->-r /home/student/.towhee/operators/text-embedding/dpr/versions/main/requirements.txt (line 5)) (4.3.0)\n",
      "Requirement already satisfied: SecretStorage>=3.2 in /home/student/PycharmProjects/MagProject/project3/ProjectOnTeam/.venv/lib/python3.11/site-packages (from keyring>=15.1->twine->towhee->-r /home/student/.towhee/operators/text-embedding/dpr/versions/main/requirements.txt (line 5)) (3.3.3)\n",
      "Requirement already satisfied: jeepney>=0.4.2 in /home/student/PycharmProjects/MagProject/project3/ProjectOnTeam/.venv/lib/python3.11/site-packages (from keyring>=15.1->twine->towhee->-r /home/student/.towhee/operators/text-embedding/dpr/versions/main/requirements.txt (line 5)) (0.8.0)\n",
      "Requirement already satisfied: nh3>=0.2.14 in /home/student/PycharmProjects/MagProject/project3/ProjectOnTeam/.venv/lib/python3.11/site-packages (from readme-renderer>=35.0->twine->towhee->-r /home/student/.towhee/operators/text-embedding/dpr/versions/main/requirements.txt (line 5)) (0.2.17)\n",
      "Requirement already satisfied: docutils>=0.13.1 in /home/student/PycharmProjects/MagProject/project3/ProjectOnTeam/.venv/lib/python3.11/site-packages (from readme-renderer>=35.0->twine->towhee->-r /home/student/.towhee/operators/text-embedding/dpr/versions/main/requirements.txt (line 5)) (0.20.1)\n",
      "Requirement already satisfied: Pygments>=2.5.1 in /home/student/PycharmProjects/MagProject/project3/ProjectOnTeam/.venv/lib/python3.11/site-packages (from readme-renderer>=35.0->twine->towhee->-r /home/student/.towhee/operators/text-embedding/dpr/versions/main/requirements.txt (line 5)) (2.17.2)\n",
      "Requirement already satisfied: markdown-it-py>=2.2.0 in /home/student/PycharmProjects/MagProject/project3/ProjectOnTeam/.venv/lib/python3.11/site-packages (from rich>=12.0.0->twine->towhee->-r /home/student/.towhee/operators/text-embedding/dpr/versions/main/requirements.txt (line 5)) (3.0.0)\n",
      "Requirement already satisfied: mdurl~=0.1 in /home/student/PycharmProjects/MagProject/project3/ProjectOnTeam/.venv/lib/python3.11/site-packages (from markdown-it-py>=2.2.0->rich>=12.0.0->twine->towhee->-r /home/student/.towhee/operators/text-embedding/dpr/versions/main/requirements.txt (line 5)) (0.1.2)\n",
      "Requirement already satisfied: cryptography>=2.0 in /home/student/PycharmProjects/MagProject/project3/ProjectOnTeam/.venv/lib/python3.11/site-packages (from SecretStorage>=3.2->keyring>=15.1->twine->towhee->-r /home/student/.towhee/operators/text-embedding/dpr/versions/main/requirements.txt (line 5)) (42.0.5)\n",
      "Requirement already satisfied: more-itertools in /home/student/PycharmProjects/MagProject/project3/ProjectOnTeam/.venv/lib/python3.11/site-packages (from jaraco.classes->keyring>=15.1->twine->towhee->-r /home/student/.towhee/operators/text-embedding/dpr/versions/main/requirements.txt (line 5)) (10.2.0)\n",
      "Requirement already satisfied: cffi>=1.12 in /home/student/PycharmProjects/MagProject/project3/ProjectOnTeam/.venv/lib/python3.11/site-packages (from cryptography>=2.0->SecretStorage>=3.2->keyring>=15.1->twine->towhee->-r /home/student/.towhee/operators/text-embedding/dpr/versions/main/requirements.txt (line 5)) (1.16.0)\n",
      "Requirement already satisfied: pycparser in /home/student/PycharmProjects/MagProject/project3/ProjectOnTeam/.venv/lib/python3.11/site-packages (from cffi>=1.12->cryptography>=2.0->SecretStorage>=3.2->keyring>=15.1->twine->towhee->-r /home/student/.towhee/operators/text-embedding/dpr/versions/main/requirements.txt (line 5)) (2.22)\n",
      "Downloading transformers-4.39.2-py3-none-any.whl (8.8 MB)\n",
      "\u001b[2K   \u001b[90m━━━━━━━━━━━━━━━━━━━━━━━━━━━━━━━━━━━━━━━━\u001b[0m \u001b[32m8.8/8.8 MB\u001b[0m \u001b[31m2.5 MB/s\u001b[0m eta \u001b[36m0:00:00\u001b[0m00:01\u001b[0m00:01\u001b[0m\n",
      "\u001b[?25hDownloading sentencepiece-0.2.0-cp311-cp311-manylinux_2_17_x86_64.manylinux2014_x86_64.whl (1.3 MB)\n",
      "\u001b[2K   \u001b[90m━━━━━━━━━━━━━━━━━━━━━━━━━━━━━━━━━━━━━━━━\u001b[0m \u001b[32m1.3/1.3 MB\u001b[0m \u001b[31m1.5 MB/s\u001b[0m eta \u001b[36m0:00:00\u001b[0m00:01\u001b[0m00:01\u001b[0m\n",
      "\u001b[?25hDownloading torch-2.2.2-cp311-cp311-manylinux1_x86_64.whl (755.6 MB)\n",
      "\u001b[2K   \u001b[90m━━━━━━━━━━━━━━━━━━━━━━━━━━━━━━━━━━━━━━━\u001b[0m \u001b[32m755.6/755.6 MB\u001b[0m \u001b[31m828.2 kB/s\u001b[0m eta \u001b[36m0:00:00\u001b[0m00:01\u001b[0m00:01\u001b[0m\n",
      "\u001b[?25hUsing cached nvidia_cublas_cu12-12.1.3.1-py3-none-manylinux1_x86_64.whl (410.6 MB)\n",
      "Using cached nvidia_cuda_cupti_cu12-12.1.105-py3-none-manylinux1_x86_64.whl (14.1 MB)\n",
      "Using cached nvidia_cuda_nvrtc_cu12-12.1.105-py3-none-manylinux1_x86_64.whl (23.7 MB)\n",
      "Using cached nvidia_cuda_runtime_cu12-12.1.105-py3-none-manylinux1_x86_64.whl (823 kB)\n",
      "Using cached nvidia_cudnn_cu12-8.9.2.26-py3-none-manylinux1_x86_64.whl (731.7 MB)\n",
      "Using cached nvidia_cufft_cu12-11.0.2.54-py3-none-manylinux1_x86_64.whl (121.6 MB)\n",
      "Using cached nvidia_curand_cu12-10.3.2.106-py3-none-manylinux1_x86_64.whl (56.5 MB)\n",
      "Using cached nvidia_cusolver_cu12-11.4.5.107-py3-none-manylinux1_x86_64.whl (124.2 MB)\n",
      "Using cached nvidia_cusparse_cu12-12.1.0.106-py3-none-manylinux1_x86_64.whl (196.0 MB)\n",
      "Using cached nvidia_nccl_cu12-2.19.3-py3-none-manylinux1_x86_64.whl (166.0 MB)\n",
      "Using cached nvidia_nvtx_cu12-12.1.105-py3-none-manylinux1_x86_64.whl (99 kB)\n",
      "Using cached triton-2.2.0-cp311-cp311-manylinux_2_17_x86_64.manylinux2014_x86_64.whl (167.9 MB)\n",
      "Using cached regex-2023.12.25-cp311-cp311-manylinux_2_17_x86_64.manylinux2014_x86_64.whl (785 kB)\n",
      "Downloading safetensors-0.4.2-cp311-cp311-manylinux_2_17_x86_64.manylinux2014_x86_64.whl (1.3 MB)\n",
      "\u001b[2K   \u001b[90m━━━━━━━━━━━━━━━━━━━━━━━━━━━━━━━━━━━━━━━━\u001b[0m \u001b[32m1.3/1.3 MB\u001b[0m \u001b[31m24.5 MB/s\u001b[0m eta \u001b[36m0:00:00\u001b[0m00:01\u001b[0m\n",
      "\u001b[?25hDownloading tokenizers-0.15.2-cp311-cp311-manylinux_2_17_x86_64.manylinux2014_x86_64.whl (3.6 MB)\n",
      "\u001b[2K   \u001b[90m━━━━━━━━━━━━━━━━━━━━━━━━━━━━━━━━━━━━━━━━\u001b[0m \u001b[32m3.6/3.6 MB\u001b[0m \u001b[31m22.5 MB/s\u001b[0m eta \u001b[36m0:00:00\u001b[0m00:01\u001b[0m00:01\u001b[0m\n",
      "\u001b[?25hUsing cached networkx-3.2.1-py3-none-any.whl (1.6 MB)\n",
      "Using cached sympy-1.12-py3-none-any.whl (5.7 MB)\n",
      "Using cached mpmath-1.3.0-py3-none-any.whl (536 kB)\n",
      "Using cached nvidia_nvjitlink_cu12-12.4.99-py3-none-manylinux2014_x86_64.whl (21.1 MB)\n",
      "Installing collected packages: sentencepiece, mpmath, triton, sympy, safetensors, regex, nvidia-nvtx-cu12, nvidia-nvjitlink-cu12, nvidia-nccl-cu12, nvidia-curand-cu12, nvidia-cufft-cu12, nvidia-cuda-runtime-cu12, nvidia-cuda-nvrtc-cu12, nvidia-cuda-cupti-cu12, nvidia-cublas-cu12, networkx, nvidia-cusparse-cu12, nvidia-cudnn-cu12, tokenizers, nvidia-cusolver-cu12, transformers, torch\n"
     ]
    }
   ],
   "source": [
    "%%time\n",
    "from towhee import pipe, ops\n",
    "import numpy as np\n",
    "from towhee.datacollection import DataCollection\n",
    "\n",
    "insert_pipe = (\n",
    "    pipe.input('id', 'question', 'answer')\n",
    "        .map('question', 'vec', ops.text_embedding.dpr(model_name='facebook/dpr-ctx_encoder-single-nq-base'))\n",
    "        .map('vec', 'vec', lambda x: x / np.linalg.norm(x, axis=0))\n",
    "        .map(('id', 'vec'), 'insert_status', ops.ann_insert.milvus_client(host='127.0.0.1', port='19530', collection_name='question_answer'))\n",
    "        .output()\n",
    ")\n",
    "\n",
    "import csv\n",
    "with open('question_answer.csv', encoding='utf-8') as f:\n",
    "    reader = csv.reader(f)\n",
    "    next(reader)\n",
    "    for row in reader:\n",
    "        insert_pipe(*row)"
   ]
  },
  {
   "cell_type": "code",
   "execution_count": 6,
   "id": "1adbb2e1",
   "metadata": {},
   "outputs": [
    {
     "name": "stdout",
     "output_type": "stream",
     "text": [
      "Total number of inserted data is 1000.\n"
     ]
    }
   ],
   "source": [
    "print('Total number of inserted data is {}.'.format(collection.num_entities))"
   ]
  },
  {
   "cell_type": "markdown",
   "id": "deb269f4",
   "metadata": {},
   "source": [
    "#### Explanation of Data Processing Pipeline\n",
    "\n",
    "Here is detailed explanation for each line of the code:\n",
    "\n",
    "`pipe.input('id', 'question', 'answer')`: Get three inputs, namely question's id, quesion's text and question's answer;\n",
    "\n",
    "`map('question', 'vec', ops.text_embedding.dpr(model_name='facebook/dpr-ctx_encoder-single-nq-base'))`: Use the `acebook/dpr-ctx_encoder-single-nq-base` model to generate the question embedding vector with the [dpr operator](https://towhee.io/text-embedding/dpr) in towhee hub;\n",
    "\n",
    "`map('vec', 'vec', lambda x: x / np.linalg.norm(x, axis=0))`: normalize the embedding vector;\n",
    "\n",
    "`map(('id', 'vec'), 'insert_status', ops.ann_insert.milvus_client(host='127.0.0.1', port='19530', collection_name='question_answer'))`: insert question embedding vector into Milvus;"
   ]
  },
  {
   "cell_type": "markdown",
   "id": "b35657d0",
   "metadata": {},
   "source": [
    "### Ask Question with Milvus and Towhee"
   ]
  },
  {
   "cell_type": "markdown",
   "id": "cd02adfc",
   "metadata": {},
   "source": [
    "Now that embedding for question dataset have been inserted into Milvus, we can ask question with Milvus and Towhee. Again, we use Towhee to load the input question, compute a embedding, and use it as a query in Milvus. Because Milvus only outputs IDs and distance values, we provide the `id_answers` dictionary to get the answers based on IDs and display."
   ]
  },
  {
   "cell_type": "code",
   "execution_count": 7,
   "id": "95913f05",
   "metadata": {},
   "outputs": [
    {
     "data": {
      "text/html": [
       "<table style=\"border-collapse: collapse;\"><tr><th style=\"text-align: center; font-size: 130%; border: none;\">question</th> <th style=\"text-align: center; font-size: 130%; border: none;\">answer</th></tr> <tr><td style=\"text-align: center; vertical-align: center; border-right: solid 1px #D3D3D3; border-left: solid 1px #D3D3D3; \">Is  Disability  Insurance  Required  By  Law?</td> <td style=\"text-align: center; vertical-align: center; border-right: solid 1px #D3D3D3; border-left: solid 1px #D3D3D3; \"><br>Not generally. There are five states that require most all employers carry short term disability insurance on their employees. T...</br></td></tr></table>"
      ],
      "text/plain": [
       "<IPython.core.display.HTML object>"
      ]
     },
     "metadata": {},
     "output_type": "display_data"
    },
    {
     "name": "stdout",
     "output_type": "stream",
     "text": [
      "CPU times: user 1.12 s, sys: 375 ms, total: 1.49 s\n",
      "Wall time: 16.7 s\n"
     ]
    }
   ],
   "source": [
    "%%time\n",
    "collection.load()\n",
    "ans_pipe = (\n",
    "    pipe.input('question')\n",
    "        .map('question', 'vec', ops.text_embedding.dpr(model_name=\"facebook/dpr-ctx_encoder-single-nq-base\"))\n",
    "        .map('vec', 'vec', lambda x: x / np.linalg.norm(x, axis=0))\n",
    "        .map('vec', 'res', ops.ann_search.milvus_client(host='127.0.0.1', port='19530', collection_name='question_answer', limit=1))\n",
    "        .map('res', 'answer', lambda x: [id_answer[int(i[0])] for i in x])\n",
    "        .output('question', 'answer')\n",
    ")\n",
    "\n",
    "\n",
    "ans = ans_pipe('Is  Disability  Insurance  Required  By  Law?')\n",
    "ans = DataCollection(ans)\n",
    "ans.show()"
   ]
  },
  {
   "cell_type": "markdown",
   "id": "bfb05a79",
   "metadata": {},
   "source": [
    "Then we can get the answer about 'Is  Disability  Insurance  Required  By  Law?'."
   ]
  },
  {
   "cell_type": "code",
   "execution_count": 8,
   "id": "cb1a8f96",
   "metadata": {},
   "outputs": [
    {
     "data": {
      "text/plain": [
       "['Not generally. There are five states that require most all employers carry short term disability insurance on their employees. These states are: California, Hawaii, New Jersey, New York, and Rhode Island. Besides this mandatory short term disability law, there is no other legislative imperative for someone to purchase or be covered by disability insurance.']"
      ]
     },
     "execution_count": 8,
     "metadata": {},
     "output_type": "execute_result"
    }
   ],
   "source": [
    "ans[0]['answer']"
   ]
  },
  {
   "cell_type": "markdown",
   "id": "01bef722",
   "metadata": {},
   "source": [
    "## Release a Showcase"
   ]
  },
  {
   "cell_type": "markdown",
   "id": "c71cace8",
   "metadata": {},
   "source": [
    "We've done an excellent job on the core functionality of our question answering engine. Now it's time to build a showcase with interface. [Gradio](https://gradio.app/) is a great tool for building demos. With Gradio, we simply need to wrap the data processing pipeline via a `chat` function:"
   ]
  },
  {
   "cell_type": "code",
   "execution_count": 9,
   "id": "65d42114",
   "metadata": {},
   "outputs": [],
   "source": [
    "import towhee\n",
    "def chat(message, history):\n",
    "    history = history or []\n",
    "    ans_pipe = (\n",
    "        pipe.input('question')\n",
    "            .map('question', 'vec', ops.text_embedding.dpr(model_name=\"facebook/dpr-ctx_encoder-single-nq-base\"))\n",
    "            .map('vec', 'vec', lambda x: x / np.linalg.norm(x, axis=0))\n",
    "            .map('vec', 'res', ops.ann_search.milvus_client(host='127.0.0.1', port='19530', collection_name='question_answer', limit=1))\n",
    "            .map('res', 'answer', lambda x: [id_answer[int(i[0])] for i in x])\n",
    "            .output('question', 'answer')\n",
    "    )\n",
    "\n",
    "    response = ans_pipe(message).get()[1][0]\n",
    "    history.append((message, response))\n",
    "    return history, history"
   ]
  },
  {
   "cell_type": "code",
   "execution_count": 10,
   "id": "065523a7",
   "metadata": {},
   "outputs": [
    {
     "name": "stdout",
     "output_type": "stream",
     "text": [
      "Running on local URL:  http://127.0.0.1:7860\n",
      "Running on public URL: https://7efbf90b-a281-48f9.gradio.live\n",
      "\n",
      "This share link expires in 72 hours. For free permanent hosting and GPU upgrades (NEW!), check out Spaces: https://huggingface.co/spaces\n"
     ]
    },
    {
     "data": {
      "text/html": [
       "<div><iframe src=\"https://7efbf90b-a281-48f9.gradio.live\" width=\"100%\" height=\"500\" allow=\"autoplay; camera; microphone; clipboard-read; clipboard-write;\" frameborder=\"0\" allowfullscreen></iframe></div>"
      ],
      "text/plain": [
       "<IPython.core.display.HTML object>"
      ]
     },
     "metadata": {},
     "output_type": "display_data"
    },
    {
     "data": {
      "text/plain": []
     },
     "execution_count": 10,
     "metadata": {},
     "output_type": "execute_result"
    }
   ],
   "source": [
    "import gradio\n",
    "\n",
    "collection.load()\n",
    "chatbot = gradio.Chatbot(color_map=(\"green\", \"gray\"))\n",
    "interface = gradio.Interface(\n",
    "    chat,\n",
    "    [\"text\", \"state\"],\n",
    "    [chatbot, \"state\"],\n",
    "    allow_screenshot=False,\n",
    "    allow_flagging=\"never\",\n",
    ")\n",
    "interface.launch(inline=True, share=True)"
   ]
  },
  {
   "cell_type": "code",
   "execution_count": null,
   "id": "23806967",
   "metadata": {},
   "outputs": [],
   "source": []
  }
 ],
 "metadata": {
  "kernelspec": {
   "display_name": "Python 3 (ipykernel)",
   "language": "python",
   "name": "python3"
  },
  "language_info": {
   "codemirror_mode": {
    "name": "ipython",
    "version": 3
   },
   "file_extension": ".py",
   "mimetype": "text/x-python",
   "name": "python",
   "nbconvert_exporter": "python",
   "pygments_lexer": "ipython3",
   "version": "3.11.2"
  },
  "vscode": {
   "interpreter": {
    "hash": "f7dd10cdbe9a9c71f7e71741efd428241b5f9fa0fecdd29ae07a5706cd5ff8a2"
   }
  }
 },
 "nbformat": 4,
 "nbformat_minor": 5
}
