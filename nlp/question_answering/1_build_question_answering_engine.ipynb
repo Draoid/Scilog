{
 "cells": [
  {
   "cell_type": "markdown",
   "id": "e410b6c4",
   "metadata": {},
   "source": [
    "# Разработка механизма ответов на вопросы за минуту"
   ]
  },
  {
   "cell_type": "markdown",
   "id": "9bed6f24",
   "metadata": {},
   "source": [
    "В этой тетради показано, как создать механизм ответов на вопросы с нуля  используя [Milvus](https://milvus.io/) и [Towhee](https://towhee.io/). Milvus - это самая совершенная векторная база данных с открытым исходным кодом, созданная для приложений искусственного интеллекта, и поддерживающая поиск ближайших соседей по десяткам миллионов записей, а Towhee - это платформа, которая предоставляет ETL для неструктурированных данных с использованием моделей машинного обучения SoTA.\n",
    "\n",
    "Мы пройдемся по процедурам ответов на вопросы и оценим производительность. Более того, с помощью Towhee нам удалось упростить основную функциональность почти до 10 строк кода, так что вы можете начать взламывать свой собственный механизм ответов на вопросы."
   ]
  },
  {
   "cell_type": "markdown",
   "id": "4883e577",
   "metadata": {},
   "source": [
    "## Подготовка"
   ]
  },
  {
   "cell_type": "markdown",
   "id": "49110b91",
   "metadata": {},
   "source": [
    "### Установите зависимости"
   ]
  },
  {
   "cell_type": "markdown",
   "id": "0117995a",
   "metadata": {},
   "source": [
    "Сначала нам нужно установить такие зависимости, как towhee, towhee.models и radio."
   ]
  },
  {
   "cell_type": "code",
   "execution_count": 1,
   "id": "c9ba3850",
   "metadata": {},
   "outputs": [
    {
     "name": "stdout",
     "output_type": "stream",
     "text": [
      "\u001b[33mWARNING: typer 0.12.0 does not provide the extra 'all'\u001b[0m\u001b[33m\n",
      "\u001b[0m"
     ]
    }
   ],
   "source": [
    "! python -m pip install -q towhee towhee.models gradio"
   ]
  },
  {
   "cell_type": "markdown",
   "id": "a90db0c5",
   "metadata": {},
   "source": [
    "### Подготовьте данные"
   ]
  },
  {
   "cell_type": "markdown",
   "id": "d1eceb58",
   "metadata": {},
   "source": [
    "Версия  [InsuranceQA Corpus](https://github.com/shuzi/insuranceQA)  В этой демонстрации используется часть корпуса вопросов и ответов по страхованию (1000 пар вопросов и ответов), которую каждый может скачать  [Github](https://github.com/towhee-io/examples/releases/download/data/question_answer.csv).\n",
    "\n",
    "В этой демонстрации используется часть корпуса вопросов и ответов по страхованию (1000 пар вопросов и ответов), которую каждый может скачать на Github."
   ]
  },
  {
   "cell_type": "code",
   "execution_count": 2,
   "id": "d1436a9c",
   "metadata": {},
   "outputs": [
    {
     "name": "stdout",
     "output_type": "stream",
     "text": [
      "  % Total    % Received % Xferd  Average Speed   Time    Time     Time  Current\n",
      "                                 Dload  Upload   Total   Spent    Left  Speed\n",
      "  0     0    0     0    0     0      0      0 --:--:-- --:--:-- --:--:--     0"
     ]
    },
    {
     "name": "stdout",
     "output_type": "stream",
     "text": [
      "  0     0    0     0    0     0      0      0 --:--:-- --:--:-- --:--:--     0\n",
      "100  595k  100  595k    0     0   602k      0 --:--:-- --:--:-- --:--:--  602k\n"
     ]
    }
   ],
   "source": [
    "! curl -L https://github.com/towhee-io/examples/releases/download/data/question_answer.csv -O"
   ]
  },
  {
   "cell_type": "markdown",
   "id": "c4abdc0a",
   "metadata": {},
   "source": [
    "**question_answer.csv**: файл, содержащий вопрос и ответ.\n",
    "\n",
    "\n",
    "Давайте кратко рассмотрим:"
   ]
  },
  {
   "cell_type": "code",
   "execution_count": 3,
   "id": "d652efea",
   "metadata": {},
   "outputs": [
    {
     "data": {
      "text/html": [
       "<div>\n",
       "<style scoped>\n",
       "    .dataframe tbody tr th:only-of-type {\n",
       "        vertical-align: middle;\n",
       "    }\n",
       "\n",
       "    .dataframe tbody tr th {\n",
       "        vertical-align: top;\n",
       "    }\n",
       "\n",
       "    .dataframe thead th {\n",
       "        text-align: right;\n",
       "    }\n",
       "</style>\n",
       "<table border=\"1\" class=\"dataframe\">\n",
       "  <thead>\n",
       "    <tr style=\"text-align: right;\">\n",
       "      <th></th>\n",
       "      <th>id</th>\n",
       "      <th>question</th>\n",
       "      <th>answer</th>\n",
       "    </tr>\n",
       "  </thead>\n",
       "  <tbody>\n",
       "    <tr>\n",
       "      <th>0</th>\n",
       "      <td>0</td>\n",
       "      <td>Is  Disability  Insurance  Required  By  Law?</td>\n",
       "      <td>Not generally. There are five states that requ...</td>\n",
       "    </tr>\n",
       "    <tr>\n",
       "      <th>1</th>\n",
       "      <td>1</td>\n",
       "      <td>Can  Creditors  Take  Life  Insurance  After  ...</td>\n",
       "      <td>If the person who passed away was the one with...</td>\n",
       "    </tr>\n",
       "    <tr>\n",
       "      <th>2</th>\n",
       "      <td>2</td>\n",
       "      <td>Does  Travelers  Insurance  Have  Renters  Ins...</td>\n",
       "      <td>One of the insurance carriers I represent is T...</td>\n",
       "    </tr>\n",
       "    <tr>\n",
       "      <th>3</th>\n",
       "      <td>3</td>\n",
       "      <td>Can  I  Drive  A  New  Car  Home  Without  Ins...</td>\n",
       "      <td>Most auto dealers will not let you drive the c...</td>\n",
       "    </tr>\n",
       "    <tr>\n",
       "      <th>4</th>\n",
       "      <td>4</td>\n",
       "      <td>Is  The  Cash  Surrender  Value  Of  Life  Ins...</td>\n",
       "      <td>Cash surrender value comes only with Whole Lif...</td>\n",
       "    </tr>\n",
       "  </tbody>\n",
       "</table>\n",
       "</div>"
      ],
      "text/plain": [
       "   id                                           question  \\\n",
       "0   0      Is  Disability  Insurance  Required  By  Law?   \n",
       "1   1  Can  Creditors  Take  Life  Insurance  After  ...   \n",
       "2   2  Does  Travelers  Insurance  Have  Renters  Ins...   \n",
       "3   3  Can  I  Drive  A  New  Car  Home  Without  Ins...   \n",
       "4   4  Is  The  Cash  Surrender  Value  Of  Life  Ins...   \n",
       "\n",
       "                                              answer  \n",
       "0  Not generally. There are five states that requ...  \n",
       "1  If the person who passed away was the one with...  \n",
       "2  One of the insurance carriers I represent is T...  \n",
       "3  Most auto dealers will not let you drive the c...  \n",
       "4  Cash surrender value comes only with Whole Lif...  "
      ]
     },
     "execution_count": 3,
     "metadata": {},
     "output_type": "execute_result"
    }
   ],
   "source": [
    "import pandas as pd\n",
    "\n",
    "df = pd.read_csv('question_answer.csv')\n",
    "df.head()"
   ]
  },
  {
   "cell_type": "markdown",
   "id": "309bfb43",
   "metadata": {},
   "source": [
    "Чтобы использовать набор данных для получения ответов, давайте сначала определим словарь:\n",
    "\n",
    "- `id_answer`: словарь с id и соответствующим ответом"
   ]
  },
  {
   "cell_type": "code",
   "execution_count": 4,
   "id": "4d98b309",
   "metadata": {},
   "outputs": [],
   "source": [
    "id_answer = df.set_index('id')['answer'].to_dict()"
   ]
  },
  {
   "cell_type": "markdown",
   "id": "1c5a0858",
   "metadata": {},
   "source": [
    "### Создание коллекции Milvus"
   ]
  },
  {
   "cell_type": "markdown",
   "id": "efb06a01",
   "metadata": {},
   "source": [
    "Перед началом работы, пожалуйста, убедитесь, что у вас запущен  [Milvus service](https://milvus.io/docs/install_standalone-docker.md). В блокноте используется [milvus 2.2.10](https://milvus.io/docs/v2.2.x/install_standalone-docker.md) and [pymilvus 2.2.11](https://milvus.io/docs/release_notes.md#2210)."
   ]
  },
  {
   "cell_type": "code",
   "execution_count": 5,
   "id": "8048bf6c",
   "metadata": {},
   "outputs": [],
   "source": [
    "! python -m pip install -q pymilvus==2.2.11"
   ]
  },
  {
   "cell_type": "markdown",
   "id": "87ba2b23",
   "metadata": {},
   "source": [
    "Затем определим функцию `create_milvus_collection` для создания коллекции в Milvus, которая использует [L2 distance metric](https://milvus.io/docs/metric.md#Euclidean-distance-L2) и [IVF_FLAT index](https://milvus.io/docs/index.md#IVF_FLAT)."
   ]
  },
  {
   "cell_type": "code",
   "execution_count": 26,
   "id": "22c19982",
   "metadata": {},
   "outputs": [],
   "source": [
    "from pymilvus import connections, FieldSchema, CollectionSchema, DataType, Collection, utility, MilvusClient\n",
    "\n",
    "#connections.connect(host='172.17.0.1', port='19530')\n",
    "client = connections.connect(\n",
    "    uri= 'https://in03-244ceba7647c848.api.gcp-us-west1.zillizcloud.com',\n",
    "    token= '77e44c13012a64a48c21312903bf753be640225497971e1d1d1c13fe4fcec0cc0b4fa70b30aa2caba9e2fec9d38379eb853b9dc9'\n",
    ")\n"
   ]
  },
  {
   "cell_type": "code",
   "execution_count": 27,
   "id": "1d8edafe",
   "metadata": {},
   "outputs": [],
   "source": [
    "from pymilvus import connections, FieldSchema, CollectionSchema, DataType, Collection, utility, MilvusClient\n",
    "\n",
    "\n",
    "\n",
    "def create_milvus_collection(collection_name, dim):\n",
    "    if utility.has_collection(collection_name):\n",
    "        utility.drop_collection(collection_name)\n",
    "    \n",
    "    fields = [\n",
    "    FieldSchema(name='id', dtype=DataType.VARCHAR, descrition='ids', max_length=500, is_primary=True, auto_id=False),\n",
    "    FieldSchema(name='embedding', dtype=DataType.FLOAT_VECTOR, descrition='embedding vectors', dim=dim)\n",
    "    ]\n",
    "    schema = CollectionSchema(fields=fields, description='reverse image search')\n",
    "    collection = Collection(name=collection_name, schema=schema)\n",
    "\n",
    "    # create IVF_FLAT index for collection.\n",
    "    index_params = {\n",
    "        'metric_type':'L2',\n",
    "        'index_type':\"IVF_FLAT\",\n",
    "        'params':{\"nlist\":2048}\n",
    "    }\n",
    "    collection.create_index(field_name=\"embedding\", index_params=index_params)\n",
    "    return collection\n",
    "\n",
    "collection = create_milvus_collection(\"quick_setup\", 768)"
   ]
  },
  {
   "cell_type": "markdown",
   "id": "9724ba28",
   "metadata": {},
   "source": [
    "## Механизм ответа на вопросы"
   ]
  },
  {
   "cell_type": "markdown",
   "id": "01e1ac7e",
   "metadata": {},
   "source": [
    "В этом разделе мы покажем, как создать наш механизм ответов на вопросы с использованием Milvus и Towhee. Основная идея, лежащая в основе системы ответов на вопросы, заключается в том, чтобы использовать Towhee для создания вложений из набора данных вопросов и сравнения входного вопроса с вложениями, хранящимися в Milvus.\n",
    "\n",
    "[Towhee](https://towhee.io/) это платформа машинного обучения, которая позволяет создавать конвейеры обработки данных, а также предоставляет предопределенные операторы для реализации операций вставки и запроса в Milvus.\n",
    "\n",
    "<img src=\"./workflow.png\" width = \"60%\" height = \"60%\" align=center />"
   ]
  },
  {
   "cell_type": "markdown",
   "id": "4c0188bf",
   "metadata": {},
   "source": [
    "### Загрузить вопрос, встраиваемый в Milvus"
   ]
  },
  {
   "cell_type": "markdown",
   "id": "0a654fdc",
   "metadata": {},
   "source": [
    "Сначала мы генерируем вложение из текста вопроса с помощью оператора[dpr](https://towhee.io/text-embedding/dpr) и вставляем вложение в Milvus. Towhee предоставляет [method-chaining style API](https://towhee.readthedocs.io/en/main/index.html) пользователи могли создавать конвейер обработки данных с операторами."
   ]
  },
  {
   "cell_type": "code",
   "execution_count": 29,
   "id": "13b7beea",
   "metadata": {},
   "outputs": [
    {
     "name": "stderr",
     "output_type": "stream",
     "text": [
      "/home/student/Общедоступные/git/ProjectOnTeam/.venv/lib/python3.11/site-packages/pydantic/_internal/_fields.py:151: UserWarning: Field \"model_name\" has conflict with protected namespace \"model_\".\n",
      "\n",
      "You may be able to resolve this warning by setting `model_config['protected_namespaces'] = ()`.\n",
      "  warnings.warn(\n",
      "2024-04-01 20:28:00,515 - 140540341481536 - connectionpool.py-connectionpool:1055 - DEBUG: Starting new HTTPS connection (1): towhee.io:443\n",
      "2024-04-01 20:28:01,615 - 140540341481536 - connectionpool.py-connectionpool:549 - DEBUG: https://towhee.io:443 \"GET /towhee-api/v1/repos/text-embedding/dpr/tree?recursive=true&ref=main HTTP/1.1\" 200 1199\n",
      "2024-04-01 20:28:01,647 - 140538884904640 - connectionpool.py-connectionpool:1055 - DEBUG: Starting new HTTPS connection (1): towhee.io:443\n",
      "2024-04-01 20:28:01,651 - 140538904831680 - connectionpool.py-connectionpool:1055 - DEBUG: Starting new HTTPS connection (1): towhee.io:443\n",
      "2024-04-01 20:28:01,666 - 140538577680064 - connectionpool.py-connectionpool:1055 - DEBUG: Starting new HTTPS connection (1): towhee.io:443\n",
      "2024-04-01 20:28:01,673 - 140538569287360 - connectionpool.py-connectionpool:1055 - DEBUG: Starting new HTTPS connection (1): towhee.io:443\n",
      "2024-04-01 20:28:01,675 - 140538862892736 - connectionpool.py-connectionpool:1055 - DEBUG: Starting new HTTPS connection (1): towhee.io:443\n",
      "2024-04-01 20:28:02,558 - 140538904831680 - connectionpool.py-connectionpool:549 - DEBUG: https://towhee.io:443 \"GET /text-embedding/dpr/resolve/branch/main/.gitattributes HTTP/1.1\" 200 1176\n",
      "2024-04-01 20:28:02,559 - 140538569287360 - connectionpool.py-connectionpool:549 - DEBUG: https://towhee.io:443 \"GET /text-embedding/dpr/resolve/branch/main/requirements.txt HTTP/1.1\" 200 55\n",
      "2024-04-01 20:28:02,562 - 140538884904640 - connectionpool.py-connectionpool:549 - DEBUG: https://towhee.io:443 \"GET /text-embedding/dpr/resolve/branch/main/README.md HTTP/1.1\" 200 2090\n",
      "2024-04-01 20:28:02,572 - 140538577680064 - connectionpool.py-connectionpool:549 - DEBUG: https://towhee.io:443 \"GET /text-embedding/dpr/resolve/branch/main/dpr.py HTTP/1.1\" 200 2205\n",
      "2024-04-01 20:28:02,599 - 140538862892736 - connectionpool.py-connectionpool:549 - DEBUG: https://towhee.io:443 \"GET /text-embedding/dpr/resolve/branch/main/__init__.py HTTP/1.1\" 200 660\n",
      "Downloading https://towhee.io/text-embedding/dpr/resolve/branch/main/dpr.py to /home/student/.towhee/operators/text-embedding/dpr/files: 100%|██████████| 2.21k/2.21k [00:00<00:00, 5.06MB/s]\n",
      "\n",
      "\n",
      "\n",
      "Downloading https://towhee.io/text-embedding/dpr/resolve/branch/main/README.md to /home/student/.towhee/operators/text-embedding/dpr/files: 100%|██████████| 2.09k/2.09k [00:00<00:00, 2.95MB/s]\n",
      "Downloading https://towhee.io/text-embedding/dpr/resolve/branch/main/.gitattributes to /home/student/.towhee/operators/text-embedding/dpr/files: 100%|██████████| 1.18k/1.18k [00:00<00:00, 3.43MB/s]\n",
      "\n",
      "\n",
      "\n",
      "Downloading https://towhee.io/text-embedding/dpr/resolve/branch/main/requirements.txt to /home/student/.towhee/operators/text-embedding/dpr/files: 100%|██████████| 55.0/55.0 [00:00<00:00, 115kB/s]\n",
      "\n",
      "Downloading https://towhee.io/text-embedding/dpr/resolve/branch/main/__init__.py to /home/student/.towhee/operators/text-embedding/dpr/files: 100%|██████████| 660/660 [00:00<00:00, 1.05MB/s]\n",
      "2024-04-01 20:28:03,431 - 140538577680064 - connectionpool.py-connectionpool:549 - DEBUG: https://towhee.io:443 \"GET /text-embedding/dpr/resolve/branch/main/result.png HTTP/1.1\" 200 5740\n",
      "Downloading https://towhee.io/text-embedding/dpr/resolve/branch/main/result.png to /home/student/.towhee/operators/text-embedding/dpr/files: 100%|██████████| 5.74k/5.74k [00:00<00:00, 3.44MB/s]\n"
     ]
    },
    {
     "name": "stdout",
     "output_type": "stream",
     "text": [
      "Requirement already satisfied: numpy in /home/student/Общедоступные/git/ProjectOnTeam/.venv/lib/python3.11/site-packages (from -r /home/student/.towhee/operators/text-embedding/dpr/versions/main/requirements.txt (line 1)) (1.26.4)\n",
      "Collecting transformers (from -r /home/student/.towhee/operators/text-embedding/dpr/versions/main/requirements.txt (line 2))\n",
      "  Downloading transformers-4.39.2-py3-none-any.whl.metadata (134 kB)\n",
      "\u001b[2K     \u001b[90m━━━━━━━━━━━━━━━━━━━━━━━━━━━━━━━━━━━━━━━\u001b[0m \u001b[32m134.8/134.8 kB\u001b[0m \u001b[31m1.0 MB/s\u001b[0m eta \u001b[36m0:00:00\u001b[0ma \u001b[36m0:00:01\u001b[0m\n",
      "\u001b[?25hCollecting sentencepiece (from -r /home/student/.towhee/operators/text-embedding/dpr/versions/main/requirements.txt (line 3))\n",
      "  Downloading sentencepiece-0.2.0-cp311-cp311-manylinux_2_17_x86_64.manylinux2014_x86_64.whl.metadata (7.7 kB)\n",
      "Requirement already satisfied: protobuf in /home/student/Общедоступные/git/ProjectOnTeam/.venv/lib/python3.11/site-packages (from -r /home/student/.towhee/operators/text-embedding/dpr/versions/main/requirements.txt (line 4)) (5.26.1)\n",
      "Requirement already satisfied: towhee in /home/student/Общедоступные/git/ProjectOnTeam/.venv/lib/python3.11/site-packages (from -r /home/student/.towhee/operators/text-embedding/dpr/versions/main/requirements.txt (line 5)) (1.1.3)\n",
      "Collecting torch (from -r /home/student/.towhee/operators/text-embedding/dpr/versions/main/requirements.txt (line 6))\n",
      "  Downloading torch-2.2.2-cp311-cp311-manylinux1_x86_64.whl.metadata (25 kB)\n",
      "Requirement already satisfied: filelock in /home/student/Общедоступные/git/ProjectOnTeam/.venv/lib/python3.11/site-packages (from transformers->-r /home/student/.towhee/operators/text-embedding/dpr/versions/main/requirements.txt (line 2)) (3.13.3)\n",
      "Requirement already satisfied: huggingface-hub<1.0,>=0.19.3 in /home/student/Общедоступные/git/ProjectOnTeam/.venv/lib/python3.11/site-packages (from transformers->-r /home/student/.towhee/operators/text-embedding/dpr/versions/main/requirements.txt (line 2)) (0.22.2)\n",
      "Requirement already satisfied: packaging>=20.0 in /home/student/Общедоступные/git/ProjectOnTeam/.venv/lib/python3.11/site-packages (from transformers->-r /home/student/.towhee/operators/text-embedding/dpr/versions/main/requirements.txt (line 2)) (24.0)\n",
      "Requirement already satisfied: pyyaml>=5.1 in /home/student/Общедоступные/git/ProjectOnTeam/.venv/lib/python3.11/site-packages (from transformers->-r /home/student/.towhee/operators/text-embedding/dpr/versions/main/requirements.txt (line 2)) (6.0.1)\n",
      "Collecting regex!=2019.12.17 (from transformers->-r /home/student/.towhee/operators/text-embedding/dpr/versions/main/requirements.txt (line 2))\n",
      "  Using cached regex-2023.12.25-cp311-cp311-manylinux_2_17_x86_64.manylinux2014_x86_64.whl.metadata (40 kB)\n",
      "Requirement already satisfied: requests in /home/student/Общедоступные/git/ProjectOnTeam/.venv/lib/python3.11/site-packages (from transformers->-r /home/student/.towhee/operators/text-embedding/dpr/versions/main/requirements.txt (line 2)) (2.31.0)\n",
      "Collecting tokenizers<0.19,>=0.14 (from transformers->-r /home/student/.towhee/operators/text-embedding/dpr/versions/main/requirements.txt (line 2))\n",
      "  Downloading tokenizers-0.15.2-cp311-cp311-manylinux_2_17_x86_64.manylinux2014_x86_64.whl.metadata (6.7 kB)\n",
      "Collecting safetensors>=0.4.1 (from transformers->-r /home/student/.towhee/operators/text-embedding/dpr/versions/main/requirements.txt (line 2))\n",
      "  Downloading safetensors-0.4.2-cp311-cp311-manylinux_2_17_x86_64.manylinux2014_x86_64.whl.metadata (3.8 kB)\n",
      "Requirement already satisfied: tqdm>=4.27 in /home/student/Общедоступные/git/ProjectOnTeam/.venv/lib/python3.11/site-packages (from transformers->-r /home/student/.towhee/operators/text-embedding/dpr/versions/main/requirements.txt (line 2)) (4.66.2)\n",
      "Requirement already satisfied: tabulate in /home/student/Общедоступные/git/ProjectOnTeam/.venv/lib/python3.11/site-packages (from towhee->-r /home/student/.towhee/operators/text-embedding/dpr/versions/main/requirements.txt (line 5)) (0.9.0)\n",
      "Requirement already satisfied: twine in /home/student/Общедоступные/git/ProjectOnTeam/.venv/lib/python3.11/site-packages (from towhee->-r /home/student/.towhee/operators/text-embedding/dpr/versions/main/requirements.txt (line 5)) (5.0.0)\n",
      "Requirement already satisfied: tenacity in /home/student/Общедоступные/git/ProjectOnTeam/.venv/lib/python3.11/site-packages (from towhee->-r /home/student/.towhee/operators/text-embedding/dpr/versions/main/requirements.txt (line 5)) (8.2.3)\n",
      "Requirement already satisfied: pydantic in /home/student/Общедоступные/git/ProjectOnTeam/.venv/lib/python3.11/site-packages (from towhee->-r /home/student/.towhee/operators/text-embedding/dpr/versions/main/requirements.txt (line 5)) (2.6.4)\n",
      "Requirement already satisfied: typing-extensions>=4.8.0 in /home/student/Общедоступные/git/ProjectOnTeam/.venv/lib/python3.11/site-packages (from torch->-r /home/student/.towhee/operators/text-embedding/dpr/versions/main/requirements.txt (line 6)) (4.10.0)\n",
      "Collecting sympy (from torch->-r /home/student/.towhee/operators/text-embedding/dpr/versions/main/requirements.txt (line 6))\n",
      "  Using cached sympy-1.12-py3-none-any.whl.metadata (12 kB)\n",
      "Collecting networkx (from torch->-r /home/student/.towhee/operators/text-embedding/dpr/versions/main/requirements.txt (line 6))\n",
      "  Using cached networkx-3.2.1-py3-none-any.whl.metadata (5.2 kB)\n",
      "Requirement already satisfied: jinja2 in /home/student/Общедоступные/git/ProjectOnTeam/.venv/lib/python3.11/site-packages (from torch->-r /home/student/.towhee/operators/text-embedding/dpr/versions/main/requirements.txt (line 6)) (3.1.3)\n",
      "Requirement already satisfied: fsspec in /home/student/Общедоступные/git/ProjectOnTeam/.venv/lib/python3.11/site-packages (from torch->-r /home/student/.towhee/operators/text-embedding/dpr/versions/main/requirements.txt (line 6)) (2024.3.1)\n",
      "Collecting nvidia-cuda-nvrtc-cu12==12.1.105 (from torch->-r /home/student/.towhee/operators/text-embedding/dpr/versions/main/requirements.txt (line 6))\n",
      "  Using cached nvidia_cuda_nvrtc_cu12-12.1.105-py3-none-manylinux1_x86_64.whl.metadata (1.5 kB)\n",
      "Collecting nvidia-cuda-runtime-cu12==12.1.105 (from torch->-r /home/student/.towhee/operators/text-embedding/dpr/versions/main/requirements.txt (line 6))\n",
      "  Using cached nvidia_cuda_runtime_cu12-12.1.105-py3-none-manylinux1_x86_64.whl.metadata (1.5 kB)\n",
      "Collecting nvidia-cuda-cupti-cu12==12.1.105 (from torch->-r /home/student/.towhee/operators/text-embedding/dpr/versions/main/requirements.txt (line 6))\n",
      "  Using cached nvidia_cuda_cupti_cu12-12.1.105-py3-none-manylinux1_x86_64.whl.metadata (1.6 kB)\n",
      "Collecting nvidia-cudnn-cu12==8.9.2.26 (from torch->-r /home/student/.towhee/operators/text-embedding/dpr/versions/main/requirements.txt (line 6))\n",
      "  Using cached nvidia_cudnn_cu12-8.9.2.26-py3-none-manylinux1_x86_64.whl.metadata (1.6 kB)\n",
      "Collecting nvidia-cublas-cu12==12.1.3.1 (from torch->-r /home/student/.towhee/operators/text-embedding/dpr/versions/main/requirements.txt (line 6))\n",
      "  Using cached nvidia_cublas_cu12-12.1.3.1-py3-none-manylinux1_x86_64.whl.metadata (1.5 kB)\n",
      "Collecting nvidia-cufft-cu12==11.0.2.54 (from torch->-r /home/student/.towhee/operators/text-embedding/dpr/versions/main/requirements.txt (line 6))\n",
      "  Using cached nvidia_cufft_cu12-11.0.2.54-py3-none-manylinux1_x86_64.whl.metadata (1.5 kB)\n",
      "Collecting nvidia-curand-cu12==10.3.2.106 (from torch->-r /home/student/.towhee/operators/text-embedding/dpr/versions/main/requirements.txt (line 6))\n",
      "  Using cached nvidia_curand_cu12-10.3.2.106-py3-none-manylinux1_x86_64.whl.metadata (1.5 kB)\n",
      "Collecting nvidia-cusolver-cu12==11.4.5.107 (from torch->-r /home/student/.towhee/operators/text-embedding/dpr/versions/main/requirements.txt (line 6))\n",
      "  Using cached nvidia_cusolver_cu12-11.4.5.107-py3-none-manylinux1_x86_64.whl.metadata (1.6 kB)\n",
      "Collecting nvidia-cusparse-cu12==12.1.0.106 (from torch->-r /home/student/.towhee/operators/text-embedding/dpr/versions/main/requirements.txt (line 6))\n",
      "  Using cached nvidia_cusparse_cu12-12.1.0.106-py3-none-manylinux1_x86_64.whl.metadata (1.6 kB)\n",
      "Collecting nvidia-nccl-cu12==2.19.3 (from torch->-r /home/student/.towhee/operators/text-embedding/dpr/versions/main/requirements.txt (line 6))\n",
      "  Using cached nvidia_nccl_cu12-2.19.3-py3-none-manylinux1_x86_64.whl.metadata (1.8 kB)\n",
      "Collecting nvidia-nvtx-cu12==12.1.105 (from torch->-r /home/student/.towhee/operators/text-embedding/dpr/versions/main/requirements.txt (line 6))\n",
      "  Using cached nvidia_nvtx_cu12-12.1.105-py3-none-manylinux1_x86_64.whl.metadata (1.7 kB)\n",
      "Collecting triton==2.2.0 (from torch->-r /home/student/.towhee/operators/text-embedding/dpr/versions/main/requirements.txt (line 6))\n",
      "  Using cached triton-2.2.0-cp311-cp311-manylinux_2_17_x86_64.manylinux2014_x86_64.whl.metadata (1.4 kB)\n",
      "Collecting nvidia-nvjitlink-cu12 (from nvidia-cusolver-cu12==11.4.5.107->torch->-r /home/student/.towhee/operators/text-embedding/dpr/versions/main/requirements.txt (line 6))\n",
      "  Using cached nvidia_nvjitlink_cu12-12.4.99-py3-none-manylinux2014_x86_64.whl.metadata (1.5 kB)\n",
      "Requirement already satisfied: charset-normalizer<4,>=2 in /home/student/Общедоступные/git/ProjectOnTeam/.venv/lib/python3.11/site-packages (from requests->transformers->-r /home/student/.towhee/operators/text-embedding/dpr/versions/main/requirements.txt (line 2)) (3.3.2)\n",
      "Requirement already satisfied: idna<4,>=2.5 in /home/student/Общедоступные/git/ProjectOnTeam/.venv/lib/python3.11/site-packages (from requests->transformers->-r /home/student/.towhee/operators/text-embedding/dpr/versions/main/requirements.txt (line 2)) (3.6)\n",
      "Requirement already satisfied: urllib3<3,>=1.21.1 in /home/student/Общедоступные/git/ProjectOnTeam/.venv/lib/python3.11/site-packages (from requests->transformers->-r /home/student/.towhee/operators/text-embedding/dpr/versions/main/requirements.txt (line 2)) (2.2.1)\n",
      "Requirement already satisfied: certifi>=2017.4.17 in /home/student/Общедоступные/git/ProjectOnTeam/.venv/lib/python3.11/site-packages (from requests->transformers->-r /home/student/.towhee/operators/text-embedding/dpr/versions/main/requirements.txt (line 2)) (2024.2.2)\n",
      "Requirement already satisfied: MarkupSafe>=2.0 in /home/student/Общедоступные/git/ProjectOnTeam/.venv/lib/python3.11/site-packages (from jinja2->torch->-r /home/student/.towhee/operators/text-embedding/dpr/versions/main/requirements.txt (line 6)) (2.1.5)\n",
      "Requirement already satisfied: annotated-types>=0.4.0 in /home/student/Общедоступные/git/ProjectOnTeam/.venv/lib/python3.11/site-packages (from pydantic->towhee->-r /home/student/.towhee/operators/text-embedding/dpr/versions/main/requirements.txt (line 5)) (0.6.0)\n",
      "Requirement already satisfied: pydantic-core==2.16.3 in /home/student/Общедоступные/git/ProjectOnTeam/.venv/lib/python3.11/site-packages (from pydantic->towhee->-r /home/student/.towhee/operators/text-embedding/dpr/versions/main/requirements.txt (line 5)) (2.16.3)\n",
      "Collecting mpmath>=0.19 (from sympy->torch->-r /home/student/.towhee/operators/text-embedding/dpr/versions/main/requirements.txt (line 6))\n",
      "  Using cached mpmath-1.3.0-py3-none-any.whl.metadata (8.6 kB)\n",
      "Requirement already satisfied: pkginfo>=1.8.1 in /home/student/Общедоступные/git/ProjectOnTeam/.venv/lib/python3.11/site-packages (from twine->towhee->-r /home/student/.towhee/operators/text-embedding/dpr/versions/main/requirements.txt (line 5)) (1.10.0)\n",
      "Requirement already satisfied: readme-renderer>=35.0 in /home/student/Общедоступные/git/ProjectOnTeam/.venv/lib/python3.11/site-packages (from twine->towhee->-r /home/student/.towhee/operators/text-embedding/dpr/versions/main/requirements.txt (line 5)) (43.0)\n",
      "Requirement already satisfied: requests-toolbelt!=0.9.0,>=0.8.0 in /home/student/Общедоступные/git/ProjectOnTeam/.venv/lib/python3.11/site-packages (from twine->towhee->-r /home/student/.towhee/operators/text-embedding/dpr/versions/main/requirements.txt (line 5)) (1.0.0)\n",
      "Requirement already satisfied: importlib-metadata>=3.6 in /home/student/Общедоступные/git/ProjectOnTeam/.venv/lib/python3.11/site-packages (from twine->towhee->-r /home/student/.towhee/operators/text-embedding/dpr/versions/main/requirements.txt (line 5)) (7.1.0)\n",
      "Requirement already satisfied: keyring>=15.1 in /home/student/Общедоступные/git/ProjectOnTeam/.venv/lib/python3.11/site-packages (from twine->towhee->-r /home/student/.towhee/operators/text-embedding/dpr/versions/main/requirements.txt (line 5)) (25.0.0)\n",
      "Requirement already satisfied: rfc3986>=1.4.0 in /home/student/Общедоступные/git/ProjectOnTeam/.venv/lib/python3.11/site-packages (from twine->towhee->-r /home/student/.towhee/operators/text-embedding/dpr/versions/main/requirements.txt (line 5)) (2.0.0)\n",
      "Requirement already satisfied: rich>=12.0.0 in /home/student/Общедоступные/git/ProjectOnTeam/.venv/lib/python3.11/site-packages (from twine->towhee->-r /home/student/.towhee/operators/text-embedding/dpr/versions/main/requirements.txt (line 5)) (13.7.1)\n",
      "Requirement already satisfied: zipp>=0.5 in /home/student/Общедоступные/git/ProjectOnTeam/.venv/lib/python3.11/site-packages (from importlib-metadata>=3.6->twine->towhee->-r /home/student/.towhee/operators/text-embedding/dpr/versions/main/requirements.txt (line 5)) (3.18.1)\n",
      "Requirement already satisfied: jaraco.classes in /home/student/Общедоступные/git/ProjectOnTeam/.venv/lib/python3.11/site-packages (from keyring>=15.1->twine->towhee->-r /home/student/.towhee/operators/text-embedding/dpr/versions/main/requirements.txt (line 5)) (3.4.0)\n",
      "Requirement already satisfied: jaraco.functools in /home/student/Общедоступные/git/ProjectOnTeam/.venv/lib/python3.11/site-packages (from keyring>=15.1->twine->towhee->-r /home/student/.towhee/operators/text-embedding/dpr/versions/main/requirements.txt (line 5)) (4.0.0)\n",
      "Requirement already satisfied: jaraco.context in /home/student/Общедоступные/git/ProjectOnTeam/.venv/lib/python3.11/site-packages (from keyring>=15.1->twine->towhee->-r /home/student/.towhee/operators/text-embedding/dpr/versions/main/requirements.txt (line 5)) (4.3.0)\n",
      "Requirement already satisfied: SecretStorage>=3.2 in /home/student/Общедоступные/git/ProjectOnTeam/.venv/lib/python3.11/site-packages (from keyring>=15.1->twine->towhee->-r /home/student/.towhee/operators/text-embedding/dpr/versions/main/requirements.txt (line 5)) (3.3.3)\n",
      "Requirement already satisfied: jeepney>=0.4.2 in /home/student/Общедоступные/git/ProjectOnTeam/.venv/lib/python3.11/site-packages (from keyring>=15.1->twine->towhee->-r /home/student/.towhee/operators/text-embedding/dpr/versions/main/requirements.txt (line 5)) (0.8.0)\n",
      "Requirement already satisfied: nh3>=0.2.14 in /home/student/Общедоступные/git/ProjectOnTeam/.venv/lib/python3.11/site-packages (from readme-renderer>=35.0->twine->towhee->-r /home/student/.towhee/operators/text-embedding/dpr/versions/main/requirements.txt (line 5)) (0.2.17)\n",
      "Requirement already satisfied: docutils>=0.13.1 in /home/student/Общедоступные/git/ProjectOnTeam/.venv/lib/python3.11/site-packages (from readme-renderer>=35.0->twine->towhee->-r /home/student/.towhee/operators/text-embedding/dpr/versions/main/requirements.txt (line 5)) (0.20.1)\n",
      "Requirement already satisfied: Pygments>=2.5.1 in /home/student/Общедоступные/git/ProjectOnTeam/.venv/lib/python3.11/site-packages (from readme-renderer>=35.0->twine->towhee->-r /home/student/.towhee/operators/text-embedding/dpr/versions/main/requirements.txt (line 5)) (2.17.2)\n",
      "Requirement already satisfied: markdown-it-py>=2.2.0 in /home/student/Общедоступные/git/ProjectOnTeam/.venv/lib/python3.11/site-packages (from rich>=12.0.0->twine->towhee->-r /home/student/.towhee/operators/text-embedding/dpr/versions/main/requirements.txt (line 5)) (3.0.0)\n",
      "Requirement already satisfied: mdurl~=0.1 in /home/student/Общедоступные/git/ProjectOnTeam/.venv/lib/python3.11/site-packages (from markdown-it-py>=2.2.0->rich>=12.0.0->twine->towhee->-r /home/student/.towhee/operators/text-embedding/dpr/versions/main/requirements.txt (line 5)) (0.1.2)\n",
      "Requirement already satisfied: cryptography>=2.0 in /home/student/Общедоступные/git/ProjectOnTeam/.venv/lib/python3.11/site-packages (from SecretStorage>=3.2->keyring>=15.1->twine->towhee->-r /home/student/.towhee/operators/text-embedding/dpr/versions/main/requirements.txt (line 5)) (42.0.5)\n",
      "Requirement already satisfied: more-itertools in /home/student/Общедоступные/git/ProjectOnTeam/.venv/lib/python3.11/site-packages (from jaraco.classes->keyring>=15.1->twine->towhee->-r /home/student/.towhee/operators/text-embedding/dpr/versions/main/requirements.txt (line 5)) (10.2.0)\n",
      "Requirement already satisfied: cffi>=1.12 in /home/student/Общедоступные/git/ProjectOnTeam/.venv/lib/python3.11/site-packages (from cryptography>=2.0->SecretStorage>=3.2->keyring>=15.1->twine->towhee->-r /home/student/.towhee/operators/text-embedding/dpr/versions/main/requirements.txt (line 5)) (1.16.0)\n",
      "Requirement already satisfied: pycparser in /home/student/Общедоступные/git/ProjectOnTeam/.venv/lib/python3.11/site-packages (from cffi>=1.12->cryptography>=2.0->SecretStorage>=3.2->keyring>=15.1->twine->towhee->-r /home/student/.towhee/operators/text-embedding/dpr/versions/main/requirements.txt (line 5)) (2.22)\n",
      "Downloading transformers-4.39.2-py3-none-any.whl (8.8 MB)\n",
      "\u001b[2K   \u001b[90m━━━━━━━━━━━━━━━━━━━━━━━━━━━━━━━━━━━━━━━━\u001b[0m \u001b[32m8.8/8.8 MB\u001b[0m \u001b[31m22.9 MB/s\u001b[0m eta \u001b[36m0:00:00\u001b[0m00:01\u001b[0m00:01\u001b[0m\n",
      "\u001b[?25hDownloading sentencepiece-0.2.0-cp311-cp311-manylinux_2_17_x86_64.manylinux2014_x86_64.whl (1.3 MB)\n",
      "\u001b[2K   \u001b[90m━━━━━━━━━━━━━━━━━━━━━━━━━━━━━━━━━━━━━━━━\u001b[0m \u001b[32m1.3/1.3 MB\u001b[0m \u001b[31m41.4 MB/s\u001b[0m eta \u001b[36m0:00:00\u001b[0m\n",
      "\u001b[?25hDownloading torch-2.2.2-cp311-cp311-manylinux1_x86_64.whl (755.6 MB)\n",
      "\u001b[2K   \u001b[90m━━━━━━━━━━━━━━━━━━━━━━━━━━━━━━━━━━━━━━━\u001b[0m \u001b[32m755.6/755.6 MB\u001b[0m \u001b[31m826.0 kB/s\u001b[0m eta \u001b[36m0:00:00\u001b[0m00:01\u001b[0m00:01\u001b[0m\n",
      "\u001b[?25hUsing cached nvidia_cublas_cu12-12.1.3.1-py3-none-manylinux1_x86_64.whl (410.6 MB)\n",
      "Using cached nvidia_cuda_cupti_cu12-12.1.105-py3-none-manylinux1_x86_64.whl (14.1 MB)\n",
      "Using cached nvidia_cuda_nvrtc_cu12-12.1.105-py3-none-manylinux1_x86_64.whl (23.7 MB)\n",
      "Using cached nvidia_cuda_runtime_cu12-12.1.105-py3-none-manylinux1_x86_64.whl (823 kB)\n",
      "Using cached nvidia_cudnn_cu12-8.9.2.26-py3-none-manylinux1_x86_64.whl (731.7 MB)\n",
      "Using cached nvidia_cufft_cu12-11.0.2.54-py3-none-manylinux1_x86_64.whl (121.6 MB)\n",
      "Using cached nvidia_curand_cu12-10.3.2.106-py3-none-manylinux1_x86_64.whl (56.5 MB)\n",
      "Using cached nvidia_cusolver_cu12-11.4.5.107-py3-none-manylinux1_x86_64.whl (124.2 MB)\n",
      "Using cached nvidia_cusparse_cu12-12.1.0.106-py3-none-manylinux1_x86_64.whl (196.0 MB)\n",
      "Using cached nvidia_nccl_cu12-2.19.3-py3-none-manylinux1_x86_64.whl (166.0 MB)\n",
      "Using cached nvidia_nvtx_cu12-12.1.105-py3-none-manylinux1_x86_64.whl (99 kB)\n",
      "Using cached triton-2.2.0-cp311-cp311-manylinux_2_17_x86_64.manylinux2014_x86_64.whl (167.9 MB)\n",
      "Using cached regex-2023.12.25-cp311-cp311-manylinux_2_17_x86_64.manylinux2014_x86_64.whl (785 kB)\n",
      "Downloading safetensors-0.4.2-cp311-cp311-manylinux_2_17_x86_64.manylinux2014_x86_64.whl (1.3 MB)\n",
      "\u001b[2K   \u001b[90m━━━━━━━━━━━━━━━━━━━━━━━━━━━━━━━━━━━━━━━━\u001b[0m \u001b[32m1.3/1.3 MB\u001b[0m \u001b[31m21.4 MB/s\u001b[0m eta \u001b[36m0:00:00\u001b[0m00:01\u001b[0m\n",
      "\u001b[?25hDownloading tokenizers-0.15.2-cp311-cp311-manylinux_2_17_x86_64.manylinux2014_x86_64.whl (3.6 MB)\n",
      "\u001b[2K   \u001b[90m━━━━━━━━━━━━━━━━━━━━━━━━━━━━━━━━━━━━━━━━\u001b[0m \u001b[32m3.6/3.6 MB\u001b[0m \u001b[31m28.6 MB/s\u001b[0m eta \u001b[36m0:00:00\u001b[0m00:01\u001b[0m00:01\u001b[0m\n",
      "\u001b[?25hUsing cached networkx-3.2.1-py3-none-any.whl (1.6 MB)\n",
      "Using cached sympy-1.12-py3-none-any.whl (5.7 MB)\n",
      "Using cached mpmath-1.3.0-py3-none-any.whl (536 kB)\n",
      "Using cached nvidia_nvjitlink_cu12-12.4.99-py3-none-manylinux2014_x86_64.whl (21.1 MB)\n",
      "Installing collected packages: sentencepiece, mpmath, triton, sympy, safetensors, regex, nvidia-nvtx-cu12, nvidia-nvjitlink-cu12, nvidia-nccl-cu12, nvidia-curand-cu12, nvidia-cufft-cu12, nvidia-cuda-runtime-cu12, nvidia-cuda-nvrtc-cu12, nvidia-cuda-cupti-cu12, nvidia-cublas-cu12, networkx, nvidia-cusparse-cu12, nvidia-cudnn-cu12, tokenizers, nvidia-cusolver-cu12, transformers, torch\n",
      "Successfully installed mpmath-1.3.0 networkx-3.2.1 nvidia-cublas-cu12-12.1.3.1 nvidia-cuda-cupti-cu12-12.1.105 nvidia-cuda-nvrtc-cu12-12.1.105 nvidia-cuda-runtime-cu12-12.1.105 nvidia-cudnn-cu12-8.9.2.26 nvidia-cufft-cu12-11.0.2.54 nvidia-curand-cu12-10.3.2.106 nvidia-cusolver-cu12-11.4.5.107 nvidia-cusparse-cu12-12.1.0.106 nvidia-nccl-cu12-2.19.3 nvidia-nvjitlink-cu12-12.4.99 nvidia-nvtx-cu12-12.1.105 regex-2023.12.25 safetensors-0.4.2 sentencepiece-0.2.0 sympy-1.12 tokenizers-0.15.2 torch-2.2.2 transformers-4.39.2 triton-2.2.0\n"
     ]
    },
    {
     "name": "stderr",
     "output_type": "stream",
     "text": [
      "/home/student/Общедоступные/git/ProjectOnTeam/.venv/lib/python3.11/site-packages/tqdm/auto.py:21: TqdmWarning: IProgress not found. Please update jupyter and ipywidgets. See https://ipywidgets.readthedocs.io/en/stable/user_install.html\n",
      "  from .autonotebook import tqdm as notebook_tqdm\n",
      "2024-04-01 20:32:33,896 - 140540341481536 - connectionpool.py-connectionpool:1055 - DEBUG: Starting new HTTPS connection (1): huggingface.co:443\n",
      "2024-04-01 20:32:34,182 - 140540341481536 - connectionpool.py-connectionpool:549 - DEBUG: https://huggingface.co:443 \"HEAD /facebook/dpr-ctx_encoder-single-nq-base/resolve/main/tokenizer_config.json HTTP/1.1\" 200 0\n",
      "2024-04-01 20:32:34,184 - 140540341481536 - _api.py-_api:261 - DEBUG: Attempting to acquire lock 140535435178512 on /home/student/.cache/huggingface/hub/.locks/models--facebook--dpr-ctx_encoder-single-nq-base/a661b1a138dac6dc5590367402d100765010ffd6.lock\n",
      "2024-04-01 20:32:34,185 - 140540341481536 - _api.py-_api:264 - DEBUG: Lock 140535435178512 acquired on /home/student/.cache/huggingface/hub/.locks/models--facebook--dpr-ctx_encoder-single-nq-base/a661b1a138dac6dc5590367402d100765010ffd6.lock\n",
      "2024-04-01 20:32:34,338 - 140540341481536 - connectionpool.py-connectionpool:549 - DEBUG: https://huggingface.co:443 \"GET /facebook/dpr-ctx_encoder-single-nq-base/resolve/main/tokenizer_config.json HTTP/1.1\" 200 28\n",
      "2024-04-01 20:32:34,344 - 140540341481536 - _api.py-_api:294 - DEBUG: Attempting to release lock 140535435178512 on /home/student/.cache/huggingface/hub/.locks/models--facebook--dpr-ctx_encoder-single-nq-base/a661b1a138dac6dc5590367402d100765010ffd6.lock\n",
      "2024-04-01 20:32:34,345 - 140540341481536 - _api.py-_api:297 - DEBUG: Lock 140535435178512 released on /home/student/.cache/huggingface/hub/.locks/models--facebook--dpr-ctx_encoder-single-nq-base/a661b1a138dac6dc5590367402d100765010ffd6.lock\n",
      "2024-04-01 20:32:34,498 - 140540341481536 - connectionpool.py-connectionpool:549 - DEBUG: https://huggingface.co:443 \"HEAD /facebook/dpr-ctx_encoder-single-nq-base/resolve/main/vocab.txt HTTP/1.1\" 200 0\n",
      "2024-04-01 20:32:34,503 - 140540341481536 - _api.py-_api:261 - DEBUG: Attempting to acquire lock 140535412665168 on /home/student/.cache/huggingface/hub/.locks/models--facebook--dpr-ctx_encoder-single-nq-base/fb140275c155a9c7c5a3b3e0e77a9e839594a938.lock\n",
      "2024-04-01 20:32:34,506 - 140540341481536 - _api.py-_api:264 - DEBUG: Lock 140535412665168 acquired on /home/student/.cache/huggingface/hub/.locks/models--facebook--dpr-ctx_encoder-single-nq-base/fb140275c155a9c7c5a3b3e0e77a9e839594a938.lock\n",
      "2024-04-01 20:32:34,664 - 140540341481536 - connectionpool.py-connectionpool:549 - DEBUG: https://huggingface.co:443 \"GET /facebook/dpr-ctx_encoder-single-nq-base/resolve/main/vocab.txt HTTP/1.1\" 200 231508\n",
      "2024-04-01 20:32:34,716 - 140540341481536 - _api.py-_api:294 - DEBUG: Attempting to release lock 140535412665168 on /home/student/.cache/huggingface/hub/.locks/models--facebook--dpr-ctx_encoder-single-nq-base/fb140275c155a9c7c5a3b3e0e77a9e839594a938.lock\n",
      "2024-04-01 20:32:34,716 - 140540341481536 - _api.py-_api:297 - DEBUG: Lock 140535412665168 released on /home/student/.cache/huggingface/hub/.locks/models--facebook--dpr-ctx_encoder-single-nq-base/fb140275c155a9c7c5a3b3e0e77a9e839594a938.lock\n",
      "2024-04-01 20:32:34,872 - 140540341481536 - connectionpool.py-connectionpool:549 - DEBUG: https://huggingface.co:443 \"HEAD /facebook/dpr-ctx_encoder-single-nq-base/resolve/main/tokenizer.json HTTP/1.1\" 200 0\n",
      "2024-04-01 20:32:34,876 - 140540341481536 - _api.py-_api:261 - DEBUG: Attempting to acquire lock 140538877319696 on /home/student/.cache/huggingface/hub/.locks/models--facebook--dpr-ctx_encoder-single-nq-base/949a6f013d67eb8a5b4b5b46026217b888021b88.lock\n",
      "2024-04-01 20:32:34,877 - 140540341481536 - _api.py-_api:264 - DEBUG: Lock 140538877319696 acquired on /home/student/.cache/huggingface/hub/.locks/models--facebook--dpr-ctx_encoder-single-nq-base/949a6f013d67eb8a5b4b5b46026217b888021b88.lock\n",
      "2024-04-01 20:32:35,033 - 140540341481536 - connectionpool.py-connectionpool:549 - DEBUG: https://huggingface.co:443 \"GET /facebook/dpr-ctx_encoder-single-nq-base/resolve/main/tokenizer.json HTTP/1.1\" 200 466062\n",
      "2024-04-01 20:32:35,064 - 140540341481536 - _api.py-_api:294 - DEBUG: Attempting to release lock 140538877319696 on /home/student/.cache/huggingface/hub/.locks/models--facebook--dpr-ctx_encoder-single-nq-base/949a6f013d67eb8a5b4b5b46026217b888021b88.lock\n",
      "2024-04-01 20:32:35,065 - 140540341481536 - _api.py-_api:297 - DEBUG: Lock 140538877319696 released on /home/student/.cache/huggingface/hub/.locks/models--facebook--dpr-ctx_encoder-single-nq-base/949a6f013d67eb8a5b4b5b46026217b888021b88.lock\n",
      "2024-04-01 20:32:35,213 - 140540341481536 - connectionpool.py-connectionpool:549 - DEBUG: https://huggingface.co:443 \"HEAD /facebook/dpr-ctx_encoder-single-nq-base/resolve/main/added_tokens.json HTTP/1.1\" 404 0\n",
      "2024-04-01 20:32:35,358 - 140540341481536 - connectionpool.py-connectionpool:549 - DEBUG: https://huggingface.co:443 \"HEAD /facebook/dpr-ctx_encoder-single-nq-base/resolve/main/special_tokens_map.json HTTP/1.1\" 404 0\n",
      "2024-04-01 20:32:35,513 - 140540341481536 - connectionpool.py-connectionpool:549 - DEBUG: https://huggingface.co:443 \"HEAD /facebook/dpr-ctx_encoder-single-nq-base/resolve/main/config.json HTTP/1.1\" 200 0\n",
      "2024-04-01 20:32:35,514 - 140540341481536 - _api.py-_api:261 - DEBUG: Attempting to acquire lock 140535412737744 on /home/student/.cache/huggingface/hub/.locks/models--facebook--dpr-ctx_encoder-single-nq-base/3056d09d58df6e98b83ccbf5c05bb181e6a27072.lock\n",
      "2024-04-01 20:32:35,515 - 140540341481536 - _api.py-_api:264 - DEBUG: Lock 140535412737744 acquired on /home/student/.cache/huggingface/hub/.locks/models--facebook--dpr-ctx_encoder-single-nq-base/3056d09d58df6e98b83ccbf5c05bb181e6a27072.lock\n",
      "2024-04-01 20:32:35,679 - 140540341481536 - connectionpool.py-connectionpool:549 - DEBUG: https://huggingface.co:443 \"GET /facebook/dpr-ctx_encoder-single-nq-base/resolve/main/config.json HTTP/1.1\" 200 492\n",
      "2024-04-01 20:32:35,680 - 140540341481536 - _api.py-_api:294 - DEBUG: Attempting to release lock 140535412737744 on /home/student/.cache/huggingface/hub/.locks/models--facebook--dpr-ctx_encoder-single-nq-base/3056d09d58df6e98b83ccbf5c05bb181e6a27072.lock\n",
      "2024-04-01 20:32:35,681 - 140540341481536 - _api.py-_api:297 - DEBUG: Lock 140535412737744 released on /home/student/.cache/huggingface/hub/.locks/models--facebook--dpr-ctx_encoder-single-nq-base/3056d09d58df6e98b83ccbf5c05bb181e6a27072.lock\n",
      "2024-04-01 20:32:36,194 - 140540341481536 - connectionpool.py-connectionpool:549 - DEBUG: https://huggingface.co:443 \"HEAD /facebook/dpr-ctx_encoder-single-nq-base/resolve/main/config.json HTTP/1.1\" 200 0\n",
      "2024-04-01 20:32:36,339 - 140540341481536 - connectionpool.py-connectionpool:549 - DEBUG: https://huggingface.co:443 \"HEAD /facebook/dpr-ctx_encoder-single-nq-base/resolve/main/config.json HTTP/1.1\" 200 0\n",
      "2024-04-01 20:32:36,522 - 140540341481536 - connectionpool.py-connectionpool:549 - DEBUG: https://huggingface.co:443 \"HEAD /facebook/dpr-ctx_encoder-single-nq-base/resolve/main/model.safetensors HTTP/1.1\" 404 0\n",
      "2024-04-01 20:32:36,673 - 140540341481536 - connectionpool.py-connectionpool:549 - DEBUG: https://huggingface.co:443 \"HEAD /facebook/dpr-ctx_encoder-single-nq-base/resolve/main/model.safetensors.index.json HTTP/1.1\" 404 0\n",
      "2024-04-01 20:32:36,825 - 140540341481536 - connectionpool.py-connectionpool:549 - DEBUG: https://huggingface.co:443 \"HEAD /facebook/dpr-ctx_encoder-single-nq-base/resolve/main/pytorch_model.bin HTTP/1.1\" 302 0\n",
      "2024-04-01 20:32:36,829 - 140540341481536 - _api.py-_api:261 - DEBUG: Attempting to acquire lock 140535412880272 on /home/student/.cache/huggingface/hub/.locks/models--facebook--dpr-ctx_encoder-single-nq-base/6bdbc3d97c037c6f1c5ab2d0c4e6f0f315ebcf2c539d1bad63fb2bf26af87ae7.lock\n",
      "2024-04-01 20:32:36,830 - 140540341481536 - _api.py-_api:264 - DEBUG: Lock 140535412880272 acquired on /home/student/.cache/huggingface/hub/.locks/models--facebook--dpr-ctx_encoder-single-nq-base/6bdbc3d97c037c6f1c5ab2d0c4e6f0f315ebcf2c539d1bad63fb2bf26af87ae7.lock\n",
      "2024-04-01 20:32:36,835 - 140540341481536 - connectionpool.py-connectionpool:1055 - DEBUG: Starting new HTTPS connection (1): cdn-lfs.huggingface.co:443\n",
      "2024-04-01 20:32:37,264 - 140540341481536 - connectionpool.py-connectionpool:549 - DEBUG: https://cdn-lfs.huggingface.co:443 \"GET /facebook/dpr-ctx_encoder-single-nq-base/6bdbc3d97c037c6f1c5ab2d0c4e6f0f315ebcf2c539d1bad63fb2bf26af87ae7?response-content-disposition=attachment%3B+filename*%3DUTF-8%27%27pytorch_model.bin%3B+filename%3D%22pytorch_model.bin%22%3B&response-content-type=application%2Foctet-stream&Expires=1712251956&Policy=eyJTdGF0ZW1lbnQiOlt7IkNvbmRpdGlvbiI6eyJEYXRlTGVzc1RoYW4iOnsiQVdTOkVwb2NoVGltZSI6MTcxMjI1MTk1Nn19LCJSZXNvdXJjZSI6Imh0dHBzOi8vY2RuLWxmcy5odWdnaW5nZmFjZS5jby9mYWNlYm9vay9kcHItY3R4X2VuY29kZXItc2luZ2xlLW5xLWJhc2UvNmJkYmMzZDk3YzAzN2M2ZjFjNWFiMmQwYzRlNmYwZjMxNWViY2YyYzUzOWQxYmFkNjNmYjJiZjI2YWY4N2FlNz9yZXNwb25zZS1jb250ZW50LWRpc3Bvc2l0aW9uPSomcmVzcG9uc2UtY29udGVudC10eXBlPSoifV19&Signature=SFXV6eyKxdX8IFIsnYGLr~biW8VBjx82AgGWLSQGX0ZIb-UbxgtZWp0Ny-KZ-j3zWuQwyGO0JORxOzx7mzM87bhkRUYwAwuxF~ahuC9NT9HzyTovV0u4yjKIt~nqA3KHw3DLvTu7QmEQ4ThVRd-XdaSCswTshNPTOEQ13OdhA5aj2i8k3UQrVrCqD1abxIPoK3RZVIw9eGIil8FyQpG51eqbAHJ-q-FIemTK-5V366KbSFqdbEIDGm1Cg52drHIcCulFxkh2umLtix2E7tg~d62HAR~SNlv1dqMJCMeLS2rZIZBm~ItDGJhRMshwXrHqwX-FFdWc4EaY-heHPxUQDQ__&Key-Pair-Id=KVTP0A1DKRTAX HTTP/1.1\" 200 437983985\n",
      "2024-04-01 20:32:44,234 - 140540341481536 - _api.py-_api:294 - DEBUG: Attempting to release lock 140535412880272 on /home/student/.cache/huggingface/hub/.locks/models--facebook--dpr-ctx_encoder-single-nq-base/6bdbc3d97c037c6f1c5ab2d0c4e6f0f315ebcf2c539d1bad63fb2bf26af87ae7.lock\n",
      "2024-04-01 20:32:44,235 - 140540341481536 - _api.py-_api:297 - DEBUG: Lock 140535412880272 released on /home/student/.cache/huggingface/hub/.locks/models--facebook--dpr-ctx_encoder-single-nq-base/6bdbc3d97c037c6f1c5ab2d0c4e6f0f315ebcf2c539d1bad63fb2bf26af87ae7.lock\n",
      "2024-04-01 20:32:45,118 - 140540341481536 - connectionpool.py-connectionpool:1055 - DEBUG: Starting new HTTPS connection (1): towhee.io:443\n",
      "2024-04-01 20:32:45,918 - 140540341481536 - connectionpool.py-connectionpool:549 - DEBUG: https://towhee.io:443 \"GET /towhee-api/v1/repos/ann-insert/milvus-client/tree?recursive=true&ref=main HTTP/1.1\" 200 1050\n",
      "2024-04-01 20:32:45,925 - 140538569287360 - connectionpool.py-connectionpool:1055 - DEBUG: Starting new HTTPS connection (1): towhee.io:443\n",
      "2024-04-01 20:32:45,929 - 140538862892736 - connectionpool.py-connectionpool:1055 - DEBUG: Starting new HTTPS connection (1): towhee.io:443\n",
      "2024-04-01 20:32:45,932 - 140538904831680 - connectionpool.py-connectionpool:1055 - DEBUG: Starting new HTTPS connection (1): towhee.io:443\n",
      "2024-04-01 20:32:45,940 - 140535398397632 - connectionpool.py-connectionpool:1055 - DEBUG: Starting new HTTPS connection (1): towhee.io:443\n",
      "2024-04-01 20:32:45,942 - 140535390004928 - connectionpool.py-connectionpool:1055 - DEBUG: Starting new HTTPS connection (1): towhee.io:443\n",
      "2024-04-01 20:32:46,831 - 140535390004928 - connectionpool.py-connectionpool:549 - DEBUG: https://towhee.io:443 \"GET /ann-insert/milvus-client/resolve/branch/main/requirements.txt HTTP/1.1\" 200 9\n",
      "2024-04-01 20:32:46,831 - 140538862892736 - connectionpool.py-connectionpool:549 - DEBUG: https://towhee.io:443 \"GET /ann-insert/milvus-client/resolve/branch/main/README.md HTTP/1.1\" 200 1404\n",
      "Downloading https://towhee.io/ann-insert/milvus-client/resolve/branch/main/requirements.txt to /home/student/.towhee/operators/ann-insert/milvus-client/files:   0%|          | 0.00/9.00 [00:00<?, ?B/s]2024-04-01 20:32:46,833 - 140538904831680 - connectionpool.py-connectionpool:549 - DEBUG: https://towhee.io:443 \"GET /ann-insert/milvus-client/resolve/branch/main/__init__.py HTTP/1.1\" 200 118\n",
      "Downloading https://towhee.io/ann-insert/milvus-client/resolve/branch/main/requirements.txt to /home/student/.towhee/operators/ann-insert/milvus-client/files: 100%|██████████| 9.00/9.00 [00:00<00:00, 11.2kB/s]2024-04-01 20:32:46,834 - 140535398397632 - connectionpool.py-connectionpool:549 - DEBUG: https://towhee.io:443 \"GET /ann-insert/milvus-client/resolve/branch/main/milvus_client.py HTTP/1.1\" 200 2068\n",
      "\n",
      "\n",
      "Downloading https://towhee.io/ann-insert/milvus-client/resolve/branch/main/README.md to /home/student/.towhee/operators/ann-insert/milvus-client/files: 100%|██████████| 1.40k/1.40k [00:00<00:00, 1.12MB/s]\n",
      "Downloading https://towhee.io/ann-insert/milvus-client/resolve/branch/main/__init__.py to /home/student/.towhee/operators/ann-insert/milvus-client/files: 100%|██████████| 118/118 [00:00<00:00, 79.2kB/s]\n",
      "Downloading https://towhee.io/ann-insert/milvus-client/resolve/branch/main/milvus_client.py to /home/student/.towhee/operators/ann-insert/milvus-client/files: 100%|██████████| 2.07k/2.07k [00:00<00:00, 9.03MB/s]\n",
      "Downloading https://towhee.io/ann-insert/milvus-client/resolve/branch/main/.gitattributes to /home/student/.towhee/operators/ann-insert/milvus-client/files: 100%|██████████| 1.18k/1.18k [00:00<00:00, 6.19MB/s]\n"
     ]
    },
    {
     "name": "stdout",
     "output_type": "stream",
     "text": [
      "Requirement already satisfied: pymilvus in /home/student/Общедоступные/git/ProjectOnTeam/.venv/lib/python3.11/site-packages (from -r /home/student/.towhee/operators/ann-insert/milvus-client/versions/main/requirements.txt (line 1)) (2.2.11)\n",
      "Requirement already satisfied: grpcio<=1.53.0,>=1.49.1 in /home/student/Общедоступные/git/ProjectOnTeam/.venv/lib/python3.11/site-packages (from pymilvus->-r /home/student/.towhee/operators/ann-insert/milvus-client/versions/main/requirements.txt (line 1)) (1.53.0)\n",
      "Requirement already satisfied: protobuf>=3.20.0 in /home/student/Общедоступные/git/ProjectOnTeam/.venv/lib/python3.11/site-packages (from pymilvus->-r /home/student/.towhee/operators/ann-insert/milvus-client/versions/main/requirements.txt (line 1)) (5.26.1)\n",
      "Requirement already satisfied: environs<=9.5.0 in /home/student/Общедоступные/git/ProjectOnTeam/.venv/lib/python3.11/site-packages (from pymilvus->-r /home/student/.towhee/operators/ann-insert/milvus-client/versions/main/requirements.txt (line 1)) (9.5.0)\n",
      "Requirement already satisfied: ujson>=2.0.0 in /home/student/Общедоступные/git/ProjectOnTeam/.venv/lib/python3.11/site-packages (from pymilvus->-r /home/student/.towhee/operators/ann-insert/milvus-client/versions/main/requirements.txt (line 1)) (5.9.0)\n",
      "Requirement already satisfied: pandas>=1.2.4 in /home/student/Общедоступные/git/ProjectOnTeam/.venv/lib/python3.11/site-packages (from pymilvus->-r /home/student/.towhee/operators/ann-insert/milvus-client/versions/main/requirements.txt (line 1)) (2.2.1)\n",
      "Requirement already satisfied: numpy!=1.25.0rc1 in /home/student/Общедоступные/git/ProjectOnTeam/.venv/lib/python3.11/site-packages (from pymilvus->-r /home/student/.towhee/operators/ann-insert/milvus-client/versions/main/requirements.txt (line 1)) (1.26.4)\n",
      "Requirement already satisfied: marshmallow>=3.0.0 in /home/student/Общедоступные/git/ProjectOnTeam/.venv/lib/python3.11/site-packages (from environs<=9.5.0->pymilvus->-r /home/student/.towhee/operators/ann-insert/milvus-client/versions/main/requirements.txt (line 1)) (3.21.1)\n",
      "Requirement already satisfied: python-dotenv in /home/student/Общедоступные/git/ProjectOnTeam/.venv/lib/python3.11/site-packages (from environs<=9.5.0->pymilvus->-r /home/student/.towhee/operators/ann-insert/milvus-client/versions/main/requirements.txt (line 1)) (1.0.1)\n",
      "Requirement already satisfied: python-dateutil>=2.8.2 in /home/student/Общедоступные/git/ProjectOnTeam/.venv/lib/python3.11/site-packages (from pandas>=1.2.4->pymilvus->-r /home/student/.towhee/operators/ann-insert/milvus-client/versions/main/requirements.txt (line 1)) (2.9.0.post0)\n",
      "Requirement already satisfied: pytz>=2020.1 in /home/student/Общедоступные/git/ProjectOnTeam/.venv/lib/python3.11/site-packages (from pandas>=1.2.4->pymilvus->-r /home/student/.towhee/operators/ann-insert/milvus-client/versions/main/requirements.txt (line 1)) (2024.1)\n",
      "Requirement already satisfied: tzdata>=2022.7 in /home/student/Общедоступные/git/ProjectOnTeam/.venv/lib/python3.11/site-packages (from pandas>=1.2.4->pymilvus->-r /home/student/.towhee/operators/ann-insert/milvus-client/versions/main/requirements.txt (line 1)) (2024.1)\n",
      "Requirement already satisfied: packaging>=17.0 in /home/student/Общедоступные/git/ProjectOnTeam/.venv/lib/python3.11/site-packages (from marshmallow>=3.0.0->environs<=9.5.0->pymilvus->-r /home/student/.towhee/operators/ann-insert/milvus-client/versions/main/requirements.txt (line 1)) (24.0)\n",
      "Requirement already satisfied: six>=1.5 in /home/student/Общедоступные/git/ProjectOnTeam/.venv/lib/python3.11/site-packages (from python-dateutil>=2.8.2->pandas>=1.2.4->pymilvus->-r /home/student/.towhee/operators/ann-insert/milvus-client/versions/main/requirements.txt (line 1)) (1.16.0)\n"
     ]
    },
    {
     "name": "stderr",
     "output_type": "stream",
     "text": [
      "2024-04-01 20:33:01,097 - 140540341481536 - node.py-node:142 - INFO: ann-insert/milvus-client-2 ends with status: NodeStatus.FAILED\n"
     ]
    },
    {
     "ename": "RuntimeError",
     "evalue": "Node-ann-insert/milvus-client-2 runs failed, error msg: Create ann-insert/milvus-client-2 operator ann-insert/milvus-client:main with args None and kws {'uri': '', 'port': '19530', 'collection_name': 'question_answer'} failed, err: <MilvusException: (code=2, message=Fail connecting to server on localhost:19530. Timeout)>, Traceback (most recent call last):\n  File \"/home/student/Общедоступные/git/ProjectOnTeam/.venv/lib/python3.11/site-packages/pymilvus/client/grpc_handler.py\", line 119, in _wait_for_channel_ready\n    grpc.channel_ready_future(self._channel).result(timeout=timeout)\n  File \"/home/student/Общедоступные/git/ProjectOnTeam/.venv/lib/python3.11/site-packages/grpc/_utilities.py\", line 151, in result\n    self._block(timeout)\n  File \"/home/student/Общедоступные/git/ProjectOnTeam/.venv/lib/python3.11/site-packages/grpc/_utilities.py\", line 97, in _block\n    raise grpc.FutureTimeoutError()\ngrpc.FutureTimeoutError\n\nThe above exception was the direct cause of the following exception:\n\nTraceback (most recent call last):\n  File \"/home/student/Общедоступные/git/ProjectOnTeam/.venv/lib/python3.11/site-packages/towhee/runtime/nodes/node.py\", line 88, in initialize\n    self._op = self._op_pool.acquire_op(\n               ^^^^^^^^^^^^^^^^^^^^^^^^^\n  File \"/home/student/Общедоступные/git/ProjectOnTeam/.venv/lib/python3.11/site-packages/towhee/runtime/operator_manager/operator_pool.py\", line 106, in acquire_op\n    op = self._op_loader.load_operator(hub_op_id, op_args, op_kws, tag, latest)\n         ^^^^^^^^^^^^^^^^^^^^^^^^^^^^^^^^^^^^^^^^^^^^^^^^^^^^^^^^^^^^^^^^^^^^^^\n  File \"/home/student/Общедоступные/git/ProjectOnTeam/.venv/lib/python3.11/site-packages/towhee/runtime/operator_manager/operator_loader.py\", line 154, in load_operator\n    op = factory(function, arg, kws, tag, latest)\n         ^^^^^^^^^^^^^^^^^^^^^^^^^^^^^^^^^^^^^^^^\n  File \"/home/student/Общедоступные/git/ProjectOnTeam/.venv/lib/python3.11/site-packages/towhee/runtime/operator_manager/operator_loader.py\", line 137, in _load_operator_from_hub\n    return self._load_operator_from_path(path, function, arg, kws, tag)\n           ^^^^^^^^^^^^^^^^^^^^^^^^^^^^^^^^^^^^^^^^^^^^^^^^^^^^^^^^^^^^\n  File \"/home/student/Общедоступные/git/ProjectOnTeam/.venv/lib/python3.11/site-packages/towhee/runtime/operator_manager/operator_loader.py\", line 125, in _load_operator_from_path\n    return self._instance_operator(op, arg, kws) if op is not None else None\n           ^^^^^^^^^^^^^^^^^^^^^^^^^^^^^^^^^^^^^\n  File \"/home/student/Общедоступные/git/ProjectOnTeam/.venv/lib/python3.11/site-packages/towhee/runtime/operator_manager/operator_loader.py\", line 163, in _instance_operator\n    return op(*arg, **kws) if kws is not None else op(*arg)\n           ^^^^^^^^^^^^^^^\n  File \"/home/student/.towhee/operators/ann-insert/milvus-client/versions/main/__init__.py\", line 4, in milvus_client\n    return MilvusClient(*args, **kwargs)\n           ^^^^^^^^^^^^^^^^^^^^^^^^^^^^^\n  File \"/home/student/.towhee/operators/ann-insert/milvus-client/versions/main/milvus_client.py\", line 29, in __init__\n    connections.connect(alias=self._connect_name, host=self._host, port=self._port)\n  File \"/home/student/Общедоступные/git/ProjectOnTeam/.venv/lib/python3.11/site-packages/pymilvus/orm/connections.py\", line 349, in connect\n    connect_milvus(**kwargs, user=user, password=password, token=token, db_name=db_name)\n  File \"/home/student/Общедоступные/git/ProjectOnTeam/.venv/lib/python3.11/site-packages/pymilvus/orm/connections.py\", line 282, in connect_milvus\n    gh._wait_for_channel_ready(timeout=timeout)\n  File \"/home/student/Общедоступные/git/ProjectOnTeam/.venv/lib/python3.11/site-packages/pymilvus/client/grpc_handler.py\", line 123, in _wait_for_channel_ready\n    raise MilvusException(Status.CONNECT_FAILED,\npymilvus.exceptions.MilvusException: <MilvusException: (code=2, message=Fail connecting to server on localhost:19530. Timeout)>\n",
     "output_type": "error",
     "traceback": [
      "\u001b[0;31m---------------------------------------------------------------------------\u001b[0m",
      "\u001b[0;31mRuntimeError\u001b[0m                              Traceback (most recent call last)",
      "File \u001b[0;32m<timed exec>:10\u001b[0m\n",
      "File \u001b[0;32m~/Общедоступные/git/ProjectOnTeam/.venv/lib/python3.11/site-packages/towhee/runtime/pipeline.py:101\u001b[0m, in \u001b[0;36mPipeline.output\u001b[0;34m(self, *output_schema)\u001b[0m\n\u001b[1;32m     98\u001b[0m dag_dict[\u001b[39mself\u001b[39m\u001b[39m.\u001b[39m_clo_node][\u001b[39m'\u001b[39m\u001b[39mnext_nodes\u001b[39m\u001b[39m'\u001b[39m]\u001b[39m.\u001b[39mappend(uid)\n\u001b[1;32m    100\u001b[0m run_pipe \u001b[39m=\u001b[39m RuntimePipeline(dag_dict)\n\u001b[0;32m--> 101\u001b[0m run_pipe\u001b[39m.\u001b[39;49mpreload()\n\u001b[1;32m    102\u001b[0m \u001b[39mreturn\u001b[39;00m run_pipe\n",
      "File \u001b[0;32m~/Общедоступные/git/ProjectOnTeam/.venv/lib/python3.11/site-packages/towhee/runtime/runtime_pipeline.py:153\u001b[0m, in \u001b[0;36mRuntimePipeline.preload\u001b[0;34m(self)\u001b[0m\n\u001b[1;32m    149\u001b[0m \u001b[39mdef\u001b[39;00m \u001b[39mpreload\u001b[39m(\u001b[39mself\u001b[39m):\n\u001b[1;32m    150\u001b[0m \u001b[39m    \u001b[39m\u001b[39m\"\"\"\u001b[39;00m\n\u001b[1;32m    151\u001b[0m \u001b[39m    Preload the operators.\u001b[39;00m\n\u001b[1;32m    152\u001b[0m \u001b[39m    \"\"\"\u001b[39;00m\n\u001b[0;32m--> 153\u001b[0m     \u001b[39mreturn\u001b[39;00m _Graph(\u001b[39mself\u001b[39;49m\u001b[39m.\u001b[39;49m_dag_repr\u001b[39m.\u001b[39;49mnodes, \u001b[39mself\u001b[39;49m\u001b[39m.\u001b[39;49m_dag_repr\u001b[39m.\u001b[39;49medges, \u001b[39mself\u001b[39;49m\u001b[39m.\u001b[39;49m_operator_pool, \u001b[39mself\u001b[39;49m\u001b[39m.\u001b[39;49m_thread_pool, TimeProfiler(\u001b[39mFalse\u001b[39;49;00m))\n",
      "File \u001b[0;32m~/Общедоступные/git/ProjectOnTeam/.venv/lib/python3.11/site-packages/towhee/runtime/runtime_pipeline.py:67\u001b[0m, in \u001b[0;36m_Graph.__init__\u001b[0;34m(self, nodes, edges, operator_pool, thread_pool, time_profiler, trace_edges)\u001b[0m\n\u001b[1;32m     65\u001b[0m \u001b[39mself\u001b[39m\u001b[39m.\u001b[39mfeatures \u001b[39m=\u001b[39m \u001b[39mNone\u001b[39;00m\n\u001b[1;32m     66\u001b[0m \u001b[39mself\u001b[39m\u001b[39m.\u001b[39m_time_profiler\u001b[39m.\u001b[39mrecord(Event\u001b[39m.\u001b[39mpipe_name, Event\u001b[39m.\u001b[39mpipe_in)\n\u001b[0;32m---> 67\u001b[0m \u001b[39mself\u001b[39;49m\u001b[39m.\u001b[39;49m_initialize()\n\u001b[1;32m     68\u001b[0m \u001b[39mself\u001b[39m\u001b[39m.\u001b[39m_input_queue \u001b[39m=\u001b[39m \u001b[39mself\u001b[39m\u001b[39m.\u001b[39m_data_queues[\u001b[39m0\u001b[39m]\n",
      "File \u001b[0;32m~/Общедоступные/git/ProjectOnTeam/.venv/lib/python3.11/site-packages/towhee/runtime/runtime_pipeline.py:83\u001b[0m, in \u001b[0;36m_Graph._initialize\u001b[0;34m(self)\u001b[0m\n\u001b[1;32m     81\u001b[0m node \u001b[39m=\u001b[39m create_node(\u001b[39mself\u001b[39m\u001b[39m.\u001b[39m_nodes[name], \u001b[39mself\u001b[39m\u001b[39m.\u001b[39m_operator_pool, in_queues, out_queues, \u001b[39mself\u001b[39m\u001b[39m.\u001b[39m_time_profiler)\n\u001b[1;32m     82\u001b[0m \u001b[39mif\u001b[39;00m \u001b[39mnot\u001b[39;00m node\u001b[39m.\u001b[39minitialize():\n\u001b[0;32m---> 83\u001b[0m     \u001b[39mraise\u001b[39;00m \u001b[39mRuntimeError\u001b[39;00m(node\u001b[39m.\u001b[39merr_msg)\n\u001b[1;32m     84\u001b[0m \u001b[39mself\u001b[39m\u001b[39m.\u001b[39m_node_runners\u001b[39m.\u001b[39mappend(node)\n",
      "\u001b[0;31mRuntimeError\u001b[0m: Node-ann-insert/milvus-client-2 runs failed, error msg: Create ann-insert/milvus-client-2 operator ann-insert/milvus-client:main with args None and kws {'uri': '', 'port': '19530', 'collection_name': 'question_answer'} failed, err: <MilvusException: (code=2, message=Fail connecting to server on localhost:19530. Timeout)>, Traceback (most recent call last):\n  File \"/home/student/Общедоступные/git/ProjectOnTeam/.venv/lib/python3.11/site-packages/pymilvus/client/grpc_handler.py\", line 119, in _wait_for_channel_ready\n    grpc.channel_ready_future(self._channel).result(timeout=timeout)\n  File \"/home/student/Общедоступные/git/ProjectOnTeam/.venv/lib/python3.11/site-packages/grpc/_utilities.py\", line 151, in result\n    self._block(timeout)\n  File \"/home/student/Общедоступные/git/ProjectOnTeam/.venv/lib/python3.11/site-packages/grpc/_utilities.py\", line 97, in _block\n    raise grpc.FutureTimeoutError()\ngrpc.FutureTimeoutError\n\nThe above exception was the direct cause of the following exception:\n\nTraceback (most recent call last):\n  File \"/home/student/Общедоступные/git/ProjectOnTeam/.venv/lib/python3.11/site-packages/towhee/runtime/nodes/node.py\", line 88, in initialize\n    self._op = self._op_pool.acquire_op(\n               ^^^^^^^^^^^^^^^^^^^^^^^^^\n  File \"/home/student/Общедоступные/git/ProjectOnTeam/.venv/lib/python3.11/site-packages/towhee/runtime/operator_manager/operator_pool.py\", line 106, in acquire_op\n    op = self._op_loader.load_operator(hub_op_id, op_args, op_kws, tag, latest)\n         ^^^^^^^^^^^^^^^^^^^^^^^^^^^^^^^^^^^^^^^^^^^^^^^^^^^^^^^^^^^^^^^^^^^^^^\n  File \"/home/student/Общедоступные/git/ProjectOnTeam/.venv/lib/python3.11/site-packages/towhee/runtime/operator_manager/operator_loader.py\", line 154, in load_operator\n    op = factory(function, arg, kws, tag, latest)\n         ^^^^^^^^^^^^^^^^^^^^^^^^^^^^^^^^^^^^^^^^\n  File \"/home/student/Общедоступные/git/ProjectOnTeam/.venv/lib/python3.11/site-packages/towhee/runtime/operator_manager/operator_loader.py\", line 137, in _load_operator_from_hub\n    return self._load_operator_from_path(path, function, arg, kws, tag)\n           ^^^^^^^^^^^^^^^^^^^^^^^^^^^^^^^^^^^^^^^^^^^^^^^^^^^^^^^^^^^^\n  File \"/home/student/Общедоступные/git/ProjectOnTeam/.venv/lib/python3.11/site-packages/towhee/runtime/operator_manager/operator_loader.py\", line 125, in _load_operator_from_path\n    return self._instance_operator(op, arg, kws) if op is not None else None\n           ^^^^^^^^^^^^^^^^^^^^^^^^^^^^^^^^^^^^^\n  File \"/home/student/Общедоступные/git/ProjectOnTeam/.venv/lib/python3.11/site-packages/towhee/runtime/operator_manager/operator_loader.py\", line 163, in _instance_operator\n    return op(*arg, **kws) if kws is not None else op(*arg)\n           ^^^^^^^^^^^^^^^\n  File \"/home/student/.towhee/operators/ann-insert/milvus-client/versions/main/__init__.py\", line 4, in milvus_client\n    return MilvusClient(*args, **kwargs)\n           ^^^^^^^^^^^^^^^^^^^^^^^^^^^^^\n  File \"/home/student/.towhee/operators/ann-insert/milvus-client/versions/main/milvus_client.py\", line 29, in __init__\n    connections.connect(alias=self._connect_name, host=self._host, port=self._port)\n  File \"/home/student/Общедоступные/git/ProjectOnTeam/.venv/lib/python3.11/site-packages/pymilvus/orm/connections.py\", line 349, in connect\n    connect_milvus(**kwargs, user=user, password=password, token=token, db_name=db_name)\n  File \"/home/student/Общедоступные/git/ProjectOnTeam/.venv/lib/python3.11/site-packages/pymilvus/orm/connections.py\", line 282, in connect_milvus\n    gh._wait_for_channel_ready(timeout=timeout)\n  File \"/home/student/Общедоступные/git/ProjectOnTeam/.venv/lib/python3.11/site-packages/pymilvus/client/grpc_handler.py\", line 123, in _wait_for_channel_ready\n    raise MilvusException(Status.CONNECT_FAILED,\npymilvus.exceptions.MilvusException: <MilvusException: (code=2, message=Fail connecting to server on localhost:19530. Timeout)>\n"
     ]
    }
   ],
   "source": [
    "%%time\n",
    "from towhee import pipe, ops\n",
    "import numpy as np\n",
    "from towhee.datacollection import DataCollection\n",
    "\n",
    "insert_pipe = (\n",
    "    pipe.input('id', 'question', 'answer')\n",
    "        .map('question', 'vec', ops.text_embedding.dpr(model_name='facebook/dpr-ctx_encoder-single-nq-base'))\n",
    "        .map('vec', 'vec', lambda x: x / np.linalg.norm(x, axis=0))\n",
    "        .map(('id', 'vec'), 'insert_status', ops.ann_insert.milvus_client(uri=\"\", port='19530', collection_name='question_answer'))\n",
    "        .output()\n",
    ")\n",
    "\n",
    "import csv\n",
    "with open('question_answer.csv', encoding='utf-8') as f:\n",
    "    reader = csv.reader(f)\n",
    "    next(reader)\n",
    "    for row in reader:\n",
    "        insert_pipe(*row)"
   ]
  },
  {
   "cell_type": "code",
   "execution_count": 6,
   "id": "1adbb2e1",
   "metadata": {},
   "outputs": [
    {
     "name": "stdout",
     "output_type": "stream",
     "text": [
      "Total number of inserted data is 1000.\n"
     ]
    }
   ],
   "source": [
    "print('Total number of inserted data is {}.'.format(collection.num_entities))"
   ]
  },
  {
   "cell_type": "markdown",
   "id": "deb269f4",
   "metadata": {},
   "source": [
    "#### Explanation of Data Processing Pipeline\n",
    "\n",
    "Here is detailed explanation for each line of the code:\n",
    "\n",
    "`pipe.input('id', 'question', 'answer')`: Get three inputs, namely question's id, quesion's text and question's answer;\n",
    "\n",
    "`map('question', 'vec', ops.text_embedding.dpr(model_name='facebook/dpr-ctx_encoder-single-nq-base'))`: Use the `acebook/dpr-ctx_encoder-single-nq-base` model to generate the question embedding vector with the [dpr operator](https://towhee.io/text-embedding/dpr) in towhee hub;\n",
    "\n",
    "`map('vec', 'vec', lambda x: x / np.linalg.norm(x, axis=0))`: normalize the embedding vector;\n",
    "\n",
    "`map(('id', 'vec'), 'insert_status', ops.ann_insert.milvus_client(host='127.0.0.1', port='19530', collection_name='question_answer'))`: insert question embedding vector into Milvus;"
   ]
  },
  {
   "cell_type": "markdown",
   "id": "b35657d0",
   "metadata": {},
   "source": [
    "### Ask Question with Milvus and Towhee"
   ]
  },
  {
   "cell_type": "markdown",
   "id": "cd02adfc",
   "metadata": {},
   "source": [
    "Now that embedding for question dataset have been inserted into Milvus, we can ask question with Milvus and Towhee. Again, we use Towhee to load the input question, compute a embedding, and use it as a query in Milvus. Because Milvus only outputs IDs and distance values, we provide the `id_answers` dictionary to get the answers based on IDs and display."
   ]
  },
  {
   "cell_type": "code",
   "execution_count": 32,
   "id": "95913f05",
   "metadata": {},
   "outputs": [
    {
     "name": "stderr",
     "output_type": "stream",
     "text": [
      "2024-04-01 20:39:42,857 - 140540341481536 - connectionpool.py-connectionpool:549 - DEBUG: https://huggingface.co:443 \"HEAD /facebook/dpr-ctx_encoder-single-nq-base/resolve/main/tokenizer_config.json HTTP/1.1\" 200 0\n",
      "2024-04-01 20:39:43,101 - 140540341481536 - connectionpool.py-connectionpool:549 - DEBUG: https://huggingface.co:443 \"HEAD /facebook/dpr-ctx_encoder-single-nq-base/resolve/main/config.json HTTP/1.1\" 200 0\n",
      "2024-04-01 20:39:43,280 - 140540341481536 - connectionpool.py-connectionpool:549 - DEBUG: https://huggingface.co:443 \"HEAD /facebook/dpr-ctx_encoder-single-nq-base/resolve/main/config.json HTTP/1.1\" 200 0\n",
      "2024-04-01 20:39:47,723 - 140535374272192 - node.py-node:167 - INFO: Begin to run Node-_input\n",
      "2024-04-01 20:39:47,729 - 140538862892736 - node.py-node:167 - INFO: Begin to run Node-text-embedding/dpr-0\n",
      "2024-04-01 20:39:47,741 - 140535398397632 - node.py-node:167 - INFO: Begin to run Node-lambda-1\n",
      "2024-04-01 20:39:47,745 - 140538904831680 - node.py-node:167 - INFO: Begin to run Node-ann-search/milvus-client-2\n",
      "2024-04-01 20:39:47,749 - 140535374272192 - node.py-node:167 - INFO: Begin to run Node-lambda-3\n",
      "2024-04-01 20:39:47,773 - 140535361685184 - node.py-node:167 - INFO: Begin to run Node-_output\n"
     ]
    },
    {
     "data": {
      "text/html": [
       "<table style=\"border-collapse: collapse;\"><tr><th style=\"text-align: center; font-size: 130%; border: none;\">question</th> <th style=\"text-align: center; font-size: 130%; border: none;\">answer</th></tr>\n",
       "<tr><td style=\"text-align: center; vertical-align: top; border-right: solid 1px #D3D3D3; border-left: solid 1px #D3D3D3; \">Is  Disability  Insurance  Required  By  Law?</td><td style=\"text-align: center; vertical-align: top; border-right: solid 1px #D3D3D3; border-left: solid 1px #D3D3D3; \"><br>Not generally. There are five states that require most all employers carry short term disability insurance on their employees. T...</br></td></tr></table>"
      ],
      "text/plain": [
       "<IPython.core.display.HTML object>"
      ]
     },
     "metadata": {},
     "output_type": "display_data"
    },
    {
     "name": "stdout",
     "output_type": "stream",
     "text": [
      "CPU times: user 1.9 s, sys: 1.64 s, total: 3.54 s\n",
      "Wall time: 11.7 s\n"
     ]
    }
   ],
   "source": [
    "%%time\n",
    "collection.load()\n",
    "ans_pipe = (\n",
    "    pipe.input('question')\n",
    "        .map('question', 'vec', ops.text_embedding.dpr(model_name=\"facebook/dpr-ctx_encoder-single-nq-base\"))\n",
    "        .map('vec', 'vec', lambda x: x / np.linalg.norm(x, axis=0))\n",
    "        .map('vec', 'res', ops.ann_search.milvus_client( uri= 'https://in03-244ceba7647c848.api.gcp-us-west1.zillizcloud.com',token= '77e44c13012a64a48c21312903bf753be640225497971e1d1d1c13fe4fcec0cc0b4fa70b30aa2caba9e2fec9d38379eb853b9dc9', collection_name='testuser2', limit=1))\n",
    "        .map('res', 'answer', lambda x: [id_answer[int(i[0])] for i in x])\n",
    "        .output('question', 'answer')\n",
    ")\n",
    "\n",
    "\n",
    "ans = ans_pipe('Is  Disability  Insurance  Required  By  Law?')\n",
    "ans = DataCollection(ans)\n",
    "ans.show()"
   ]
  },
  {
   "cell_type": "markdown",
   "id": "bfb05a79",
   "metadata": {},
   "source": [
    "Then we can get the answer about 'Is  Disability  Insurance  Required  By  Law?'."
   ]
  },
  {
   "cell_type": "code",
   "execution_count": 33,
   "id": "cb1a8f96",
   "metadata": {},
   "outputs": [
    {
     "data": {
      "text/plain": [
       "['Not generally. There are five states that require most all employers carry short term disability insurance on their employees. These states are: California, Hawaii, New Jersey, New York, and Rhode Island. Besides this mandatory short term disability law, there is no other legislative imperative for someone to purchase or be covered by disability insurance.']"
      ]
     },
     "execution_count": 33,
     "metadata": {},
     "output_type": "execute_result"
    }
   ],
   "source": [
    "ans[0]['answer']"
   ]
  },
  {
   "cell_type": "markdown",
   "id": "01bef722",
   "metadata": {},
   "source": [
    "## Release a Showcase"
   ]
  },
  {
   "cell_type": "markdown",
   "id": "c71cace8",
   "metadata": {},
   "source": [
    "We've done an excellent job on the core functionality of our question answering engine. Now it's time to build a showcase with interface. [Gradio](https://gradio.app/) is a great tool for building demos. With Gradio, we simply need to wrap the data processing pipeline via a `chat` function:"
   ]
  },
  {
   "cell_type": "code",
   "execution_count": 34,
   "id": "65d42114",
   "metadata": {},
   "outputs": [],
   "source": [
    "import towhee\n",
    "def chat(message, history):\n",
    "    history = history or []\n",
    "    ans_pipe = (\n",
    "        pipe.input('question')\n",
    "            .map('question', 'vec', ops.text_embedding.dpr(model_name=\"facebook/dpr-ctx_encoder-single-nq-base\"))\n",
    "            .map('vec', 'vec', lambda x: x / np.linalg.norm(x, axis=0))\n",
    "            .map('vec', 'res', ops.ann_search.milvus_client(uri= 'https://in03-244ceba7647c848.api.gcp-us-west1.zillizcloud.com',token= '77e44c13012a64a48c21312903bf753be640225497971e1d1d1c13fe4fcec0cc0b4fa70b30aa2caba9e2fec9d38379eb853b9dc9', collection_name='testuser2', limit=1))\n",
    "            .map('res', 'answer', lambda x: [id_answer[int(i[0])] for i in x])\n",
    "            .output('question', 'answer')\n",
    "    )\n",
    "\n",
    "    response = ans_pipe(message).get()[1][0]\n",
    "    history.append((message, response))\n",
    "    return history, history"
   ]
  },
  {
   "cell_type": "code",
   "execution_count": 36,
   "id": "065523a7",
   "metadata": {},
   "outputs": [
    {
     "ename": "TypeError",
     "evalue": "Chatbot.__init__() got an unexpected keyword argument 'color_map'",
     "output_type": "error",
     "traceback": [
      "\u001b[0;31m---------------------------------------------------------------------------\u001b[0m",
      "\u001b[0;31mTypeError\u001b[0m                                 Traceback (most recent call last)",
      "\u001b[1;32m/home/student/Общедоступные/git/ProjectOnTeam/nlp/question_answering/1_build_question_answering_engine.ipynb Cell 36\u001b[0m line \u001b[0;36m4\n\u001b[1;32m      <a href='vscode-notebook-cell:/home/student/%D0%9E%D0%B1%D1%89%D0%B5%D0%B4%D0%BE%D1%81%D1%82%D1%83%D0%BF%D0%BD%D1%8B%D0%B5/git/ProjectOnTeam/nlp/question_answering/1_build_question_answering_engine.ipynb#X46sZmlsZQ%3D%3D?line=0'>1</a>\u001b[0m \u001b[39mimport\u001b[39;00m \u001b[39mgradio\u001b[39;00m\n\u001b[1;32m      <a href='vscode-notebook-cell:/home/student/%D0%9E%D0%B1%D1%89%D0%B5%D0%B4%D0%BE%D1%81%D1%82%D1%83%D0%BF%D0%BD%D1%8B%D0%B5/git/ProjectOnTeam/nlp/question_answering/1_build_question_answering_engine.ipynb#X46sZmlsZQ%3D%3D?line=2'>3</a>\u001b[0m collection\u001b[39m.\u001b[39mload()\n\u001b[0;32m----> <a href='vscode-notebook-cell:/home/student/%D0%9E%D0%B1%D1%89%D0%B5%D0%B4%D0%BE%D1%81%D1%82%D1%83%D0%BF%D0%BD%D1%8B%D0%B5/git/ProjectOnTeam/nlp/question_answering/1_build_question_answering_engine.ipynb#X46sZmlsZQ%3D%3D?line=3'>4</a>\u001b[0m chatbot \u001b[39m=\u001b[39m gradio\u001b[39m.\u001b[39;49mChatbot(color_map\u001b[39m=\u001b[39;49m(\u001b[39m\"\u001b[39;49m\u001b[39mgreen\u001b[39;49m\u001b[39m\"\u001b[39;49m, \u001b[39m\"\u001b[39;49m\u001b[39mgray\u001b[39;49m\u001b[39m\"\u001b[39;49m))\n\u001b[1;32m      <a href='vscode-notebook-cell:/home/student/%D0%9E%D0%B1%D1%89%D0%B5%D0%B4%D0%BE%D1%81%D1%82%D1%83%D0%BF%D0%BD%D1%8B%D0%B5/git/ProjectOnTeam/nlp/question_answering/1_build_question_answering_engine.ipynb#X46sZmlsZQ%3D%3D?line=4'>5</a>\u001b[0m interface \u001b[39m=\u001b[39m gradio\u001b[39m.\u001b[39mInterface(\n\u001b[1;32m      <a href='vscode-notebook-cell:/home/student/%D0%9E%D0%B1%D1%89%D0%B5%D0%B4%D0%BE%D1%81%D1%82%D1%83%D0%BF%D0%BD%D1%8B%D0%B5/git/ProjectOnTeam/nlp/question_answering/1_build_question_answering_engine.ipynb#X46sZmlsZQ%3D%3D?line=5'>6</a>\u001b[0m     chat,\n\u001b[1;32m      <a href='vscode-notebook-cell:/home/student/%D0%9E%D0%B1%D1%89%D0%B5%D0%B4%D0%BE%D1%81%D1%82%D1%83%D0%BF%D0%BD%D1%8B%D0%B5/git/ProjectOnTeam/nlp/question_answering/1_build_question_answering_engine.ipynb#X46sZmlsZQ%3D%3D?line=6'>7</a>\u001b[0m     [\u001b[39m\"\u001b[39m\u001b[39mtext\u001b[39m\u001b[39m\"\u001b[39m, \u001b[39m\"\u001b[39m\u001b[39mstate\u001b[39m\u001b[39m\"\u001b[39m],\n\u001b[0;32m   (...)\u001b[0m\n\u001b[1;32m     <a href='vscode-notebook-cell:/home/student/%D0%9E%D0%B1%D1%89%D0%B5%D0%B4%D0%BE%D1%81%D1%82%D1%83%D0%BF%D0%BD%D1%8B%D0%B5/git/ProjectOnTeam/nlp/question_answering/1_build_question_answering_engine.ipynb#X46sZmlsZQ%3D%3D?line=9'>10</a>\u001b[0m     allow_flagging\u001b[39m=\u001b[39m\u001b[39m\"\u001b[39m\u001b[39mnever\u001b[39m\u001b[39m\"\u001b[39m,\n\u001b[1;32m     <a href='vscode-notebook-cell:/home/student/%D0%9E%D0%B1%D1%89%D0%B5%D0%B4%D0%BE%D1%81%D1%82%D1%83%D0%BF%D0%BD%D1%8B%D0%B5/git/ProjectOnTeam/nlp/question_answering/1_build_question_answering_engine.ipynb#X46sZmlsZQ%3D%3D?line=10'>11</a>\u001b[0m )\n\u001b[1;32m     <a href='vscode-notebook-cell:/home/student/%D0%9E%D0%B1%D1%89%D0%B5%D0%B4%D0%BE%D1%81%D1%82%D1%83%D0%BF%D0%BD%D1%8B%D0%B5/git/ProjectOnTeam/nlp/question_answering/1_build_question_answering_engine.ipynb#X46sZmlsZQ%3D%3D?line=11'>12</a>\u001b[0m interface\u001b[39m.\u001b[39mlaunch(inline\u001b[39m=\u001b[39m\u001b[39mTrue\u001b[39;00m, share\u001b[39m=\u001b[39m\u001b[39mTrue\u001b[39;00m)\n",
      "File \u001b[0;32m~/Общедоступные/git/ProjectOnTeam/.venv/lib/python3.11/site-packages/gradio/component_meta.py:159\u001b[0m, in \u001b[0;36mupdateable.<locals>.wrapper\u001b[0;34m(*args, **kwargs)\u001b[0m\n\u001b[1;32m    157\u001b[0m     \u001b[39mreturn\u001b[39;00m \u001b[39mNone\u001b[39;00m\n\u001b[1;32m    158\u001b[0m \u001b[39melse\u001b[39;00m:\n\u001b[0;32m--> 159\u001b[0m     \u001b[39mreturn\u001b[39;00m fn(\u001b[39mself\u001b[39;49m, \u001b[39m*\u001b[39;49m\u001b[39m*\u001b[39;49mkwargs)\n",
      "\u001b[0;31mTypeError\u001b[0m: Chatbot.__init__() got an unexpected keyword argument 'color_map'"
     ]
    }
   ],
   "source": [
    "import gradio\n",
    "\n",
    "collection.load()\n",
    "chatbot = gradio.Chatbot(color_map=(\"green\", \"gray\"))\n",
    "interface = gradio.Interface(\n",
    "    chat,\n",
    "    [\"text\", \"state\"],\n",
    "    [chatbot, \"state\"],\n",
    "    allow_screenshot=False,\n",
    "    allow_flagging=\"never\",\n",
    ")\n",
    "interface.launch(inline=True, share=True)"
   ]
  },
  {
   "cell_type": "code",
   "execution_count": null,
   "id": "23806967",
   "metadata": {},
   "outputs": [],
   "source": []
  }
 ],
 "metadata": {
  "kernelspec": {
   "display_name": "Python 3 (ipykernel)",
   "language": "python",
   "name": "python3"
  },
  "language_info": {
   "codemirror_mode": {
    "name": "ipython",
    "version": 3
   },
   "file_extension": ".py",
   "mimetype": "text/x-python",
   "name": "python",
   "nbconvert_exporter": "python",
   "pygments_lexer": "ipython3",
   "version": "3.11.2"
  },
  "vscode": {
   "interpreter": {
    "hash": "f7dd10cdbe9a9c71f7e71741efd428241b5f9fa0fecdd29ae07a5706cd5ff8a2"
   }
  }
 },
 "nbformat": 4,
 "nbformat_minor": 5
}
